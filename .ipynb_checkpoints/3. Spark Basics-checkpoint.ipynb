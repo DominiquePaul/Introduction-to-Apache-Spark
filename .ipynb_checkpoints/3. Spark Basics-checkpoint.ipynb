{
 "cells": [
  {
   "cell_type": "markdown",
   "metadata": {},
   "source": [
    "# 1. An overview of the basic functions of Spark\n",
    "\n",
    "#### This tutorial covers:\n",
    "- Creating RDDs and DataFrames using SparkContext\n",
    "- Interoperability between RDDs and DataFrames\n",
    "- Multiple rows and multiple column specifications for DataFrames\n",
    "- Selecting, editing and renaming columns in dataframes\n",
    "- Interoperability between Pandas and Spark dataframes\n",
    "- Reading data from a csv\n",
    "- Changing Dataframe schemas\n",
    "- Filtering & Grouping\n",
    "- Other operations"
   ]
  },
  {
   "cell_type": "markdown",
   "metadata": {},
   "source": [
    "## 1.1 Basic Spark Operations"
   ]
  },
  {
   "cell_type": "markdown",
   "metadata": {},
   "source": [
    "**We create a RDD by calling sc.parallelize**  \n",
    "sc = spark context"
   ]
  },
  {
   "cell_type": "code",
   "execution_count": 1,
   "metadata": {
    "collapsed": true
   },
   "outputs": [],
   "source": [
    "basic_data = sc.parallelize([\"St. Gallen\", \"Switzerland\", 75.000])"
   ]
  },
  {
   "cell_type": "markdown",
   "metadata": {},
   "source": [
    "**But we can't read the RDD as such, we must call an action**"
   ]
  },
  {
   "cell_type": "code",
   "execution_count": 2,
   "metadata": {},
   "outputs": [
    {
     "data": {
      "text/plain": [
       "ParallelCollectionRDD[0] at parallelize at PythonRDD.scala:175"
      ]
     },
     "execution_count": 2,
     "metadata": {},
     "output_type": "execute_result"
    }
   ],
   "source": [
    "basic_data"
   ]
  },
  {
   "cell_type": "code",
   "execution_count": 3,
   "metadata": {},
   "outputs": [
    {
     "data": {
      "text/plain": [
       "['St. Gallen', 'Switzerland', 75.0]"
      ]
     },
     "execution_count": 3,
     "metadata": {},
     "output_type": "execute_result"
    }
   ],
   "source": [
    "basic_data.collect() # return all elements as an array to the driver "
   ]
  },
  {
   "cell_type": "markdown",
   "metadata": {},
   "source": [
    "** Other actions we can perform: ** "
   ]
  },
  {
   "cell_type": "code",
   "execution_count": 4,
   "metadata": {
    "scrolled": true
   },
   "outputs": [
    {
     "data": {
      "text/plain": [
       "'St. Gallen'"
      ]
     },
     "execution_count": 4,
     "metadata": {},
     "output_type": "execute_result"
    }
   ],
   "source": [
    "basic_data.first() # get the first item"
   ]
  },
  {
   "cell_type": "code",
   "execution_count": 5,
   "metadata": {},
   "outputs": [
    {
     "data": {
      "text/plain": [
       "['St. Gallen', 'Switzerland']"
      ]
     },
     "execution_count": 5,
     "metadata": {},
     "output_type": "execute_result"
    }
   ],
   "source": [
    "basic_data.take(2) # get the first two items"
   ]
  },
  {
   "cell_type": "code",
   "execution_count": 6,
   "metadata": {},
   "outputs": [
    {
     "data": {
      "text/plain": [
       "3"
      ]
     },
     "execution_count": 6,
     "metadata": {},
     "output_type": "execute_result"
    }
   ],
   "source": [
    "basic_data.count() # counts the items in the RDD"
   ]
  },
  {
   "cell_type": "markdown",
   "metadata": {},
   "source": [
    "** Lets create a second dimension to our data by adding a new entry **"
   ]
  },
  {
   "cell_type": "code",
   "execution_count": 7,
   "metadata": {},
   "outputs": [
    {
     "data": {
      "text/plain": [
       "ParallelCollectionRDD[6] at parallelize at PythonRDD.scala:175"
      ]
     },
     "execution_count": 7,
     "metadata": {},
     "output_type": "execute_result"
    }
   ],
   "source": [
    "data = sc.parallelize([[\"St. Gallen\", \"Switzerland\", 75000], \n",
    "                       [\"Milan\", \"Italy\", 1330000]])\n",
    "data"
   ]
  },
  {
   "cell_type": "code",
   "execution_count": 8,
   "metadata": {},
   "outputs": [
    {
     "data": {
      "text/plain": [
       "['St. Gallen', 'Switzerland', 75000]"
      ]
     },
     "execution_count": 8,
     "metadata": {},
     "output_type": "execute_result"
    }
   ],
   "source": [
    "data.first() # now the entire array is returned"
   ]
  },
  {
   "cell_type": "markdown",
   "metadata": {},
   "source": [
    "## 1.2 Spark DataFrames"
   ]
  },
  {
   "cell_type": "markdown",
   "metadata": {},
   "source": [
    "#### We can convert our RDD to a Spark DF\n",
    "* Different that RDDs, DFs have a schema, where each column has a name and a data type\n",
    "* SQL, frequently used in relational databases, is a common way to organize and query the data\n",
    "* Schemas are useful, because they allow spark to perform substantially better when calculating the execution plan\n",
    "* The DataFrame was called SchemaRDD before Spark v1.3"
   ]
  },
  {
   "cell_type": "code",
   "execution_count": 9,
   "metadata": {},
   "outputs": [
    {
     "data": {
      "text/plain": [
       "DataFrame[_1: string, _2: string, _3: bigint]"
      ]
     },
     "execution_count": 9,
     "metadata": {},
     "output_type": "execute_result"
    }
   ],
   "source": [
    "df = data.toDF()\n",
    "df"
   ]
  },
  {
   "cell_type": "code",
   "execution_count": 10,
   "metadata": {},
   "outputs": [
    {
     "data": {
      "text/plain": [
       "pyspark.sql.dataframe.DataFrame"
      ]
     },
     "execution_count": 10,
     "metadata": {},
     "output_type": "execute_result"
    }
   ],
   "source": [
    "type(df)"
   ]
  },
  {
   "cell_type": "markdown",
   "metadata": {},
   "source": [
    "#### Column names are automatically assigned "
   ]
  },
  {
   "cell_type": "code",
   "execution_count": 11,
   "metadata": {},
   "outputs": [
    {
     "name": "stdout",
     "output_type": "stream",
     "text": [
      "+----------+-----------+-------+\n",
      "|        _1|         _2|     _3|\n",
      "+----------+-----------+-------+\n",
      "|St. Gallen|Switzerland|  75000|\n",
      "|     Milan|      Italy|1330000|\n",
      "+----------+-----------+-------+\n",
      "\n"
     ]
    }
   ],
   "source": [
    "df.show()"
   ]
  },
  {
   "cell_type": "markdown",
   "metadata": {},
   "source": [
    "## Explicitly defined schemas\n",
    "However, schemas will not always be inferred correctly by Spark, especially when reading in external data, where integers might have been saved as string"
   ]
  },
  {
   "cell_type": "code",
   "execution_count": 12,
   "metadata": {},
   "outputs": [
    {
     "data": {
      "text/plain": [
       "['St. Gallen,Switzerland,75000,TRUE,38.9',\n",
       " 'Milan,Italy,1330000,FALSE,45.1',\n",
       " 'London,United Kingdom,8136000,FALSE,33.1',\n",
       " 'New York,USA,8538000,FALSE,35.8']"
      ]
     },
     "execution_count": 12,
     "metadata": {},
     "output_type": "execute_result"
    }
   ],
   "source": [
    "starting_input = sc.parallelize([\"St. Gallen,Switzerland,75000,TRUE,38.9\",\n",
    "    \"Milan,Italy,1330000,FALSE,45.1\",\n",
    "    \"London,United Kingdom,8136000,FALSE,33.1\",\n",
    "    \"New York,USA,8538000,FALSE,35.8\"])\n",
    "starting_input.collect()"
   ]
  },
  {
   "cell_type": "code",
   "execution_count": 13,
   "metadata": {},
   "outputs": [
    {
     "data": {
      "text/plain": [
       "[['St. Gallen', 'Switzerland', '75000', 'TRUE', '38.9'],\n",
       " ['Milan', 'Italy', '1330000', 'FALSE', '45.1'],\n",
       " ['London', 'United Kingdom', '8136000', 'FALSE', '33.1'],\n",
       " ['New York', 'USA', '8538000', 'FALSE', '35.8']]"
      ]
     },
     "execution_count": 13,
     "metadata": {},
     "output_type": "execute_result"
    }
   ],
   "source": [
    "parts = starting_input.map(lambda x: x.split(\",\"))\n",
    "parts.collect()"
   ]
  },
  {
   "cell_type": "markdown",
   "metadata": {},
   "source": [
    "#### If we just convert this input to a DF, it will only be read as strings and hinder us from using certain functionalities"
   ]
  },
  {
   "cell_type": "code",
   "execution_count": 14,
   "metadata": {},
   "outputs": [
    {
     "name": "stdout",
     "output_type": "stream",
     "text": [
      "root\n",
      " |-- _1: string (nullable = true)\n",
      " |-- _2: string (nullable = true)\n",
      " |-- _3: string (nullable = true)\n",
      " |-- _4: string (nullable = true)\n",
      " |-- _5: string (nullable = true)\n",
      "\n"
     ]
    }
   ],
   "source": [
    "regular_conversion = parts.toDF()\n",
    "regular_conversion.printSchema()"
   ]
  },
  {
   "cell_type": "code",
   "execution_count": 15,
   "metadata": {},
   "outputs": [
    {
     "name": "stdout",
     "output_type": "stream",
     "text": [
      "+----------+--------------+-------+-----+----+\n",
      "|        _1|            _2|     _3|   _4|  _5|\n",
      "+----------+--------------+-------+-----+----+\n",
      "|St. Gallen|   Switzerland|  75000| TRUE|38.9|\n",
      "|     Milan|         Italy|1330000|FALSE|45.1|\n",
      "|    London|United Kingdom|8136000|FALSE|33.1|\n",
      "|  New York|           USA|8538000|FALSE|35.8|\n",
      "+----------+--------------+-------+-----+----+\n",
      "\n"
     ]
    }
   ],
   "source": [
    "regular_conversion.show()"
   ]
  },
  {
   "cell_type": "code",
   "execution_count": 16,
   "metadata": {},
   "outputs": [
    {
     "data": {
      "text/plain": [
       "[['St. Gallen', 'Switzerland', '75000', 'TRUE', '38.9'],\n",
       " ['Milan', 'Italy', '1330000', 'FALSE', '45.1'],\n",
       " ['London', 'United Kingdom', '8136000', 'FALSE', '33.1'],\n",
       " ['New York', 'USA', '8538000', 'FALSE', '35.8']]"
      ]
     },
     "execution_count": 16,
     "metadata": {},
     "output_type": "execute_result"
    }
   ],
   "source": [
    "parts.collect()"
   ]
  },
  {
   "cell_type": "markdown",
   "metadata": {},
   "source": [
    "#### Luckily we can explicitly define the schema"
   ]
  },
  {
   "cell_type": "code",
   "execution_count": 17,
   "metadata": {
    "collapsed": true
   },
   "outputs": [],
   "source": [
    "from pyspark.sql.types import StructType, StructField, StringType, LongType, BooleanType\n",
    "from pyspark.sql.types import Row\n",
    "\n",
    "fields = [StructField('City', StringType(), True),\n",
    "          StructField('Country', StringType(), True),\n",
    "          StructField('Population', LongType(), True),\n",
    "          StructField('In Switzerland', BooleanType(), True),\n",
    "          StructField('Median Age', LongType(), True),\n",
    "]"
   ]
  },
  {
   "cell_type": "markdown",
   "metadata": {},
   "source": [
    "#### Creating dataframes using sc.parallelize() and Row() functions\n",
    "* Row functions allow specifying column names for dataframes\n",
    "* Depending on which action is called, the output is returned in a different format\n"
   ]
  },
  {
   "cell_type": "code",
   "execution_count": 18,
   "metadata": {
    "collapsed": true
   },
   "outputs": [],
   "source": [
    "from pyspark.sql.types import Row"
   ]
  },
  {
   "cell_type": "code",
   "execution_count": 19,
   "metadata": {},
   "outputs": [
    {
     "data": {
      "text/plain": [
       "[Row(city='St. Gallen', country='Switzerland', id=1, population=75000)]"
      ]
     },
     "execution_count": 19,
     "metadata": {},
     "output_type": "execute_result"
    }
   ],
   "source": [
    "row_rdd = sc.parallelize([Row(id=1,\n",
    "                           city=\"St. Gallen\",\n",
    "                           country=\"Switzerland\",\n",
    "                          population= 75000)])\n",
    "row_rdd.collect()"
   ]
  },
  {
   "cell_type": "markdown",
   "metadata": {},
   "source": [
    "#### Working with multiple rows"
   ]
  },
  {
   "cell_type": "code",
   "execution_count": 21,
   "metadata": {
    "collapsed": true
   },
   "outputs": [],
   "source": [
    "row_rdd = sc.parallelize([Row(id=1,\n",
    "                           city=\"St. Gallen\",\n",
    "                           country=\"Switzerland\",\n",
    "                          population= 75000\n",
    "                          ),\n",
    "                        Row(id=2,\n",
    "                           city=\"Milan\",\n",
    "                           country=\"Italy\",\n",
    "                          population= 1330000\n",
    "                           ),\n",
    "                        Row(id=3,\n",
    "                           city=\"London\",\n",
    "                           country=\"United Kingdom\",\n",
    "                          population= 8136000\n",
    "                           )])"
   ]
  },
  {
   "cell_type": "code",
   "execution_count": 22,
   "metadata": {},
   "outputs": [
    {
     "name": "stdout",
     "output_type": "stream",
     "text": [
      "+----------+--------------+---+----------+\n",
      "|      city|       country| id|population|\n",
      "+----------+--------------+---+----------+\n",
      "|St. Gallen|   Switzerland|  1|     75000|\n",
      "|     Milan|         Italy|  2|   1330000|\n",
      "|    London|United Kingdom|  3|   8136000|\n",
      "+----------+--------------+---+----------+\n",
      "\n"
     ]
    }
   ],
   "source": [
    "row_rdd = row_rdd.toDF()\n",
    "row_rdd.show()"
   ]
  },
  {
   "cell_type": "markdown",
   "metadata": {},
   "source": [
    "#### We can now observe differences in the columns of the DF by looking at the schema"
   ]
  },
  {
   "cell_type": "code",
   "execution_count": 23,
   "metadata": {},
   "outputs": [
    {
     "name": "stdout",
     "output_type": "stream",
     "text": [
      "root\n",
      " |-- city: string (nullable = true)\n",
      " |-- country: string (nullable = true)\n",
      " |-- id: long (nullable = true)\n",
      " |-- population: long (nullable = true)\n",
      "\n"
     ]
    }
   ],
   "source": [
    "row_rdd.printSchema()"
   ]
  },
  {
   "cell_type": "markdown",
   "metadata": {},
   "source": [
    "#### We can also apply row names to an existing RDD\n",
    "* The map transformation performs a transformation on every element in the RDD \n",
    "* In our case we pass an anonymous function (/lamdbda function) to the RDD which is performed on each element\n",
    "* Remember: we are never modifying the original RDD but are creating a new one\n"
   ]
  },
  {
   "cell_type": "code",
   "execution_count": 24,
   "metadata": {},
   "outputs": [
    {
     "data": {
      "text/plain": [
       "ParallelCollectionRDD[42] at parallelize at PythonRDD.scala:175"
      ]
     },
     "execution_count": 24,
     "metadata": {},
     "output_type": "execute_result"
    }
   ],
   "source": [
    "data = sc.parallelize([[\"St. Gallen\", \"Switzerland\", 75000], \n",
    "                       [\"Milan\", \"Italy\", 1330000],\n",
    "                       [\"London\", \"United Kingdom\", 8136000]])\n",
    "data"
   ]
  },
  {
   "cell_type": "code",
   "execution_count": 25,
   "metadata": {
    "collapsed": true
   },
   "outputs": [],
   "source": [
    "column_names = Row('City', 'Country', 'Population')  \n",
    "cities = data.map(lambda r: column_names(*r))"
   ]
  },
  {
   "cell_type": "code",
   "execution_count": 26,
   "metadata": {},
   "outputs": [
    {
     "data": {
      "text/plain": [
       "[Row(City='St. Gallen', Country='Switzerland', Population=75000),\n",
       " Row(City='Milan', Country='Italy', Population=1330000),\n",
       " Row(City='London', Country='United Kingdom', Population=8136000)]"
      ]
     },
     "execution_count": 26,
     "metadata": {},
     "output_type": "execute_result"
    }
   ],
   "source": [
    "cities.collect()"
   ]
  },
  {
   "cell_type": "code",
   "execution_count": 27,
   "metadata": {},
   "outputs": [
    {
     "name": "stdout",
     "output_type": "stream",
     "text": [
      "+----------+--------------+----------+\n",
      "|      City|       Country|Population|\n",
      "+----------+--------------+----------+\n",
      "|St. Gallen|   Switzerland|     75000|\n",
      "|     Milan|         Italy|   1330000|\n",
      "|    London|United Kingdom|   8136000|\n",
      "+----------+--------------+----------+\n",
      "\n"
     ]
    }
   ],
   "source": [
    "cities = cities.toDF()\n",
    "cities.show()"
   ]
  },
  {
   "cell_type": "markdown",
   "metadata": {},
   "source": [
    "#### Extracting specific cells from dataframes"
   ]
  },
  {
   "cell_type": "code",
   "execution_count": 28,
   "metadata": {},
   "outputs": [
    {
     "data": {
      "text/plain": [
       "75000"
      ]
     },
     "execution_count": 28,
     "metadata": {},
     "output_type": "execute_result"
    }
   ],
   "source": [
    "cities.collect()[0][2]"
   ]
  },
  {
   "cell_type": "markdown",
   "metadata": {},
   "source": [
    "#### Adding a column"
   ]
  },
  {
   "cell_type": "code",
   "execution_count": 29,
   "metadata": {},
   "outputs": [
    {
     "name": "stdout",
     "output_type": "stream",
     "text": [
      "+----------+--------------+----------+-------------------+\n",
      "|      City|       Country|Population|water consumed p.a.|\n",
      "+----------+--------------+----------+-------------------+\n",
      "|St. Gallen|   Switzerland|     75000|         9307500000|\n",
      "|     Milan|         Italy|   1330000|       165053000000|\n",
      "|    London|United Kingdom|   8136000|      1009677600000|\n",
      "+----------+--------------+----------+-------------------+\n",
      "\n"
     ]
    }
   ],
   "source": [
    "cities = cities.withColumn(\n",
    "                   \"water consumed p.a.\",\n",
    "                    cities.Population * 340 * 365 # 340l is the average amount of water consumed per person a day\n",
    "           )\n",
    "cities.show()"
   ]
  },
  {
   "cell_type": "markdown",
   "metadata": {},
   "source": [
    "#### Editing a column name"
   ]
  },
  {
   "cell_type": "code",
   "execution_count": 30,
   "metadata": {
    "scrolled": true
   },
   "outputs": [
    {
     "name": "stdout",
     "output_type": "stream",
     "text": [
      "+----------+--------------+----------+-------------+\n",
      "|      City|       Country|Population|  Water Usage|\n",
      "+----------+--------------+----------+-------------+\n",
      "|St. Gallen|   Switzerland|     75000|   9307500000|\n",
      "|     Milan|         Italy|   1330000| 165053000000|\n",
      "|    London|United Kingdom|   8136000|1009677600000|\n",
      "+----------+--------------+----------+-------------+\n",
      "\n"
     ]
    }
   ],
   "source": [
    "cities.withColumnRenamed(\"water consumed p.a.\",\"Water Usage\").show()"
   ]
  },
  {
   "cell_type": "markdown",
   "metadata": {},
   "source": [
    "#### We can also easily convert a Spark dataframe to a Pandas Dataframe\n",
    "* This may be useful if we want to continue working on a small df we extracted from our spark cluster"
   ]
  },
  {
   "cell_type": "code",
   "execution_count": 31,
   "metadata": {
    "collapsed": true
   },
   "outputs": [],
   "source": [
    "import pandas"
   ]
  },
  {
   "cell_type": "code",
   "execution_count": 32,
   "metadata": {
    "scrolled": true
   },
   "outputs": [
    {
     "data": {
      "text/html": [
       "<div>\n",
       "<style scoped>\n",
       "    .dataframe tbody tr th:only-of-type {\n",
       "        vertical-align: middle;\n",
       "    }\n",
       "\n",
       "    .dataframe tbody tr th {\n",
       "        vertical-align: top;\n",
       "    }\n",
       "\n",
       "    .dataframe thead th {\n",
       "        text-align: right;\n",
       "    }\n",
       "</style>\n",
       "<table border=\"1\" class=\"dataframe\">\n",
       "  <thead>\n",
       "    <tr style=\"text-align: right;\">\n",
       "      <th></th>\n",
       "      <th>City</th>\n",
       "      <th>Country</th>\n",
       "      <th>Population</th>\n",
       "      <th>water consumed p.a.</th>\n",
       "    </tr>\n",
       "  </thead>\n",
       "  <tbody>\n",
       "    <tr>\n",
       "      <th>0</th>\n",
       "      <td>St. Gallen</td>\n",
       "      <td>Switzerland</td>\n",
       "      <td>75000</td>\n",
       "      <td>9307500000</td>\n",
       "    </tr>\n",
       "    <tr>\n",
       "      <th>1</th>\n",
       "      <td>Milan</td>\n",
       "      <td>Italy</td>\n",
       "      <td>1330000</td>\n",
       "      <td>165053000000</td>\n",
       "    </tr>\n",
       "    <tr>\n",
       "      <th>2</th>\n",
       "      <td>London</td>\n",
       "      <td>United Kingdom</td>\n",
       "      <td>8136000</td>\n",
       "      <td>1009677600000</td>\n",
       "    </tr>\n",
       "  </tbody>\n",
       "</table>\n",
       "</div>"
      ],
      "text/plain": [
       "         City         Country  Population  water consumed p.a.\n",
       "0  St. Gallen     Switzerland       75000           9307500000\n",
       "1       Milan           Italy     1330000         165053000000\n",
       "2      London  United Kingdom     8136000        1009677600000"
      ]
     },
     "execution_count": 32,
     "metadata": {},
     "output_type": "execute_result"
    }
   ],
   "source": [
    "df_pandas = cities.toPandas()\n",
    "df_pandas"
   ]
  },
  {
   "cell_type": "markdown",
   "metadata": {},
   "source": [
    "# 1.3 Reading Data from a CSV"
   ]
  },
  {
   "cell_type": "markdown",
   "metadata": {},
   "source": [
    "#### Reading external data as a dataframe"
   ]
  },
  {
   "cell_type": "code",
   "execution_count": 33,
   "metadata": {
    "collapsed": true
   },
   "outputs": [],
   "source": [
    "avocado = spark.read\\\n",
    "            .format(\"csv\")\\\n",
    "            .option(\"header\", \"True\")\\\n",
    "            .load(\"./data/avocado.csv\") # replace by the path on your computer"
   ]
  },
  {
   "cell_type": "code",
   "execution_count": 34,
   "metadata": {},
   "outputs": [
    {
     "data": {
      "text/plain": [
       "pyspark.sql.dataframe.DataFrame"
      ]
     },
     "execution_count": 34,
     "metadata": {},
     "output_type": "execute_result"
    }
   ],
   "source": [
    "type(avocado)"
   ]
  },
  {
   "cell_type": "markdown",
   "metadata": {},
   "source": [
    "#### How many rows are contained in this dataset?"
   ]
  },
  {
   "cell_type": "code",
   "execution_count": 35,
   "metadata": {},
   "outputs": [
    {
     "data": {
      "text/plain": [
       "18249"
      ]
     },
     "execution_count": 35,
     "metadata": {},
     "output_type": "execute_result"
    }
   ],
   "source": [
    "avocado.count()"
   ]
  },
  {
   "cell_type": "markdown",
   "metadata": {},
   "source": [
    "#### Lets take a look at the content"
   ]
  },
  {
   "cell_type": "code",
   "execution_count": 36,
   "metadata": {},
   "outputs": [
    {
     "name": "stdout",
     "output_type": "stream",
     "text": [
      "+---+----------+------------+------------+-------+---------+-----+----------+----------+----------+-----------+------------+----+------+\n",
      "|_c0|      Date|AveragePrice|Total Volume|   4046|     4225| 4770|Total Bags|Small Bags|Large Bags|XLarge Bags|        type|year|region|\n",
      "+---+----------+------------+------------+-------+---------+-----+----------+----------+----------+-----------+------------+----+------+\n",
      "|  0|2015-12-27|        1.33|    64236.62|1036.74| 54454.85|48.16|   8696.87|   8603.62|     93.25|        0.0|conventional|2015|Albany|\n",
      "|  1|2015-12-20|        1.35|    54876.98| 674.28| 44638.81|58.33|   9505.56|   9408.07|     97.49|        0.0|conventional|2015|Albany|\n",
      "|  2|2015-12-13|        0.93|   118220.22|  794.7|109149.67|130.5|   8145.35|   8042.21|    103.14|        0.0|conventional|2015|Albany|\n",
      "|  3|2015-12-06|        1.08|    78992.15| 1132.0| 71976.41|72.58|   5811.16|    5677.4|    133.76|        0.0|conventional|2015|Albany|\n",
      "|  4|2015-11-29|        1.28|     51039.6| 941.48| 43838.39|75.78|   6183.95|   5986.26|    197.69|        0.0|conventional|2015|Albany|\n",
      "+---+----------+------------+------------+-------+---------+-----+----------+----------+----------+-----------+------------+----+------+\n",
      "\n"
     ]
    }
   ],
   "source": [
    "avocado.limit(5).show()"
   ]
  },
  {
   "cell_type": "markdown",
   "metadata": {},
   "source": [
    "### Examining the columns data types\n",
    "At the moment all columns are strings"
   ]
  },
  {
   "cell_type": "code",
   "execution_count": 37,
   "metadata": {},
   "outputs": [
    {
     "name": "stdout",
     "output_type": "stream",
     "text": [
      "root\n",
      " |-- _c0: string (nullable = true)\n",
      " |-- Date: string (nullable = true)\n",
      " |-- AveragePrice: string (nullable = true)\n",
      " |-- Total Volume: string (nullable = true)\n",
      " |-- 4046: string (nullable = true)\n",
      " |-- 4225: string (nullable = true)\n",
      " |-- 4770: string (nullable = true)\n",
      " |-- Total Bags: string (nullable = true)\n",
      " |-- Small Bags: string (nullable = true)\n",
      " |-- Large Bags: string (nullable = true)\n",
      " |-- XLarge Bags: string (nullable = true)\n",
      " |-- type: string (nullable = true)\n",
      " |-- year: string (nullable = true)\n",
      " |-- region: string (nullable = true)\n",
      "\n"
     ]
    }
   ],
   "source": [
    "avocado.printSchema()"
   ]
  },
  {
   "cell_type": "markdown",
   "metadata": {},
   "source": [
    "#### Converting schema types\n",
    "* Let's change the type of one of the columns to a float\n",
    "* Notice the change when we print the schema"
   ]
  },
  {
   "cell_type": "code",
   "execution_count": 38,
   "metadata": {
    "collapsed": true
   },
   "outputs": [],
   "source": [
    "avocado = avocado.withColumn(\"Total Volume\", avocado[\"Total Volume\"].cast(\"float\"))\n",
    "avocado = avocado.withColumn(\"year\", avocado[\"year\"].cast(\"int\"))"
   ]
  },
  {
   "cell_type": "code",
   "execution_count": 39,
   "metadata": {},
   "outputs": [
    {
     "name": "stdout",
     "output_type": "stream",
     "text": [
      "root\n",
      " |-- _c0: string (nullable = true)\n",
      " |-- Date: string (nullable = true)\n",
      " |-- AveragePrice: string (nullable = true)\n",
      " |-- Total Volume: float (nullable = true)\n",
      " |-- 4046: string (nullable = true)\n",
      " |-- 4225: string (nullable = true)\n",
      " |-- 4770: string (nullable = true)\n",
      " |-- Total Bags: string (nullable = true)\n",
      " |-- Small Bags: string (nullable = true)\n",
      " |-- Large Bags: string (nullable = true)\n",
      " |-- XLarge Bags: string (nullable = true)\n",
      " |-- type: string (nullable = true)\n",
      " |-- year: integer (nullable = true)\n",
      " |-- region: string (nullable = true)\n",
      "\n"
     ]
    }
   ],
   "source": [
    "avocado.printSchema()"
   ]
  },
  {
   "cell_type": "markdown",
   "metadata": {},
   "source": [
    "#### We can also examine specific columns"
   ]
  },
  {
   "cell_type": "code",
   "execution_count": 40,
   "metadata": {},
   "outputs": [
    {
     "name": "stdout",
     "output_type": "stream",
     "text": [
      "+----+\n",
      "|year|\n",
      "+----+\n",
      "|2015|\n",
      "|2015|\n",
      "|2015|\n",
      "|2015|\n",
      "|2015|\n",
      "+----+\n",
      "only showing top 5 rows\n",
      "\n"
     ]
    }
   ],
   "source": [
    "avocado.select('year').show(5)"
   ]
  },
  {
   "cell_type": "markdown",
   "metadata": {},
   "source": [
    "#### Or multiple columns"
   ]
  },
  {
   "cell_type": "code",
   "execution_count": 41,
   "metadata": {},
   "outputs": [
    {
     "name": "stdout",
     "output_type": "stream",
     "text": [
      "+------------+----+\n",
      "|Total Volume|year|\n",
      "+------------+----+\n",
      "|    64236.62|2015|\n",
      "|    54876.98|2015|\n",
      "|   118220.22|2015|\n",
      "|    78992.15|2015|\n",
      "|     51039.6|2015|\n",
      "+------------+----+\n",
      "only showing top 5 rows\n",
      "\n"
     ]
    }
   ],
   "source": [
    "avocado.select(\"Total Volume\",\"year\").show(5)"
   ]
  },
  {
   "cell_type": "markdown",
   "metadata": {},
   "source": [
    "#### Unique Values by Column\n",
    "What are the distinct values for the region column?"
   ]
  },
  {
   "cell_type": "code",
   "execution_count": 42,
   "metadata": {},
   "outputs": [
    {
     "name": "stdout",
     "output_type": "stream",
     "text": [
      "+----------------+\n",
      "|          region|\n",
      "+----------------+\n",
      "|   PhoenixTucson|\n",
      "|     GrandRapids|\n",
      "|   SouthCarolina|\n",
      "|         TotalUS|\n",
      "|WestTexNewMexico|\n",
      "|      Louisville|\n",
      "|    Philadelphia|\n",
      "|      Sacramento|\n",
      "|   DallasFtWorth|\n",
      "|    Indianapolis|\n",
      "+----------------+\n",
      "only showing top 10 rows\n",
      "\n"
     ]
    }
   ],
   "source": [
    "years_included = avocado.select('region')\\\n",
    "                     .distinct()\\\n",
    "        \n",
    "years_included.show(10)"
   ]
  },
  {
   "cell_type": "markdown",
   "metadata": {},
   "source": [
    "## 1.4 Filtering & Aggregations\n",
    "Say we only want to use the data from 2018"
   ]
  },
  {
   "cell_type": "code",
   "execution_count": 43,
   "metadata": {
    "scrolled": true
   },
   "outputs": [
    {
     "name": "stdout",
     "output_type": "stream",
     "text": [
      "+---+----------+------------+------------+--------+---------+-----+----------+----------+----------+-----------+------------+----+------+\n",
      "|_c0|      Date|AveragePrice|Total Volume|    4046|     4225| 4770|Total Bags|Small Bags|Large Bags|XLarge Bags|        type|year|region|\n",
      "+---+----------+------------+------------+--------+---------+-----+----------+----------+----------+-----------+------------+----+------+\n",
      "|  0|2018-03-25|        1.57|    149396.5|16361.69|109045.03|65.45|  23924.33|   19273.8|   4270.53|      380.0|conventional|2018|Albany|\n",
      "|  1|2018-03-18|        1.35|   105304.65|13234.86| 61037.58| 55.0|  30977.21|   26755.9|   3721.31|      500.0|conventional|2018|Albany|\n",
      "|  2|2018-03-11|        1.12|   144648.75|15823.35|110950.68| 70.0|  17804.72|  14480.52|   3033.09|     291.11|conventional|2018|Albany|\n",
      "|  3|2018-03-04|        1.08|    139520.6|12002.12|105069.57|95.62|  22353.29|  16128.51|   5941.45|     283.33|conventional|2018|Albany|\n",
      "|  4|2018-02-25|        1.28|   104278.89|10368.77| 59723.32| 48.0|   34138.8|  30126.31|   3702.49|      310.0|conventional|2018|Albany|\n",
      "+---+----------+------------+------------+--------+---------+-----+----------+----------+----------+-----------+------------+----+------+\n",
      "only showing top 5 rows\n",
      "\n"
     ]
    }
   ],
   "source": [
    "avocados_2018 = avocado.filter(avocado['year'] == \"2018\")\n",
    "avocados_2018.show(5)"
   ]
  },
  {
   "cell_type": "markdown",
   "metadata": {},
   "source": [
    "#### Or after a certain year..."
   ]
  },
  {
   "cell_type": "code",
   "execution_count": 44,
   "metadata": {},
   "outputs": [
    {
     "name": "stdout",
     "output_type": "stream",
     "text": [
      "+---+----------+------------+------------+-------+--------+------+----------+----------+----------+-----------+------------+----+------+\n",
      "|_c0|      Date|AveragePrice|Total Volume|   4046|    4225|  4770|Total Bags|Small Bags|Large Bags|XLarge Bags|        type|year|region|\n",
      "+---+----------+------------+------------+-------+--------+------+----------+----------+----------+-----------+------------+----+------+\n",
      "|  0|2016-12-25|        1.52|    73341.73|3202.39|58280.33|426.92|  11432.09|  11017.32|    411.83|       2.94|conventional|2016|Albany|\n",
      "|  1|2016-12-18|        1.53|    68938.53|3345.36|55949.79|138.72|   9504.66|   8876.65|    587.73|      40.28|conventional|2016|Albany|\n",
      "|  2|2016-12-11|        1.49|    71777.85|2323.39|56545.79| 86.65|  12822.02|  12176.75|    645.27|        0.0|conventional|2016|Albany|\n",
      "|  3|2016-12-04|        1.48|   113031.96|6530.78|99746.05| 50.84|   6704.29|   6476.12|    228.17|        0.0|conventional|2016|Albany|\n",
      "|  4|2016-11-27|        1.52|    58171.89|2793.99|47106.18| 18.14|   8253.58|   7973.98|     279.6|        0.0|conventional|2016|Albany|\n",
      "+---+----------+------------+------------+-------+--------+------+----------+----------+----------+-----------+------------+----+------+\n",
      "only showing top 5 rows\n",
      "\n"
     ]
    }
   ],
   "source": [
    "avocados_2016_onwards = avocado.filter(avocado['year'] >= 2016 )\n",
    "avocados_2016_onwards.show(5)"
   ]
  },
  {
   "cell_type": "markdown",
   "metadata": {},
   "source": [
    "#### We can also see how many data rows exist for each year"
   ]
  },
  {
   "cell_type": "code",
   "execution_count": 45,
   "metadata": {},
   "outputs": [
    {
     "name": "stdout",
     "output_type": "stream",
     "text": [
      "+----+-----+\n",
      "|year|count|\n",
      "+----+-----+\n",
      "|2018| 1296|\n",
      "|2015| 5615|\n",
      "|2016| 5616|\n",
      "|2017| 5722|\n",
      "+----+-----+\n",
      "\n"
     ]
    }
   ],
   "source": [
    "agg_data_years = avocado.groupBy(\"year\").count()\n",
    "agg_data_years.show()"
   ]
  },
  {
   "cell_type": "markdown",
   "metadata": {},
   "source": [
    "## Aggregations\n",
    "* We can use aggregations to collect values on a column\n",
    "* \"agg\" knows avg, max, min, sum, count."
   ]
  },
  {
   "cell_type": "code",
   "execution_count": 48,
   "metadata": {},
   "outputs": [
    {
     "name": "stdout",
     "output_type": "stream",
     "text": [
      "+---------+\n",
      "|avg(year)|\n",
      "+---------+\n",
      "|   2016.5|\n",
      "+---------+\n",
      "\n"
     ]
    }
   ],
   "source": [
    "agg_data_years.agg({\"year\":\"avg\"}).show()"
   ]
  },
  {
   "cell_type": "code",
   "execution_count": 49,
   "metadata": {},
   "outputs": [
    {
     "name": "stdout",
     "output_type": "stream",
     "text": [
      "+---------+\n",
      "|max(year)|\n",
      "+---------+\n",
      "|     2018|\n",
      "+---------+\n",
      "\n"
     ]
    }
   ],
   "source": [
    "years_column = avocado.select(\"year\")\n",
    "\n",
    "years_column.agg({\"year\":\"max\"}).show()"
   ]
  },
  {
   "cell_type": "code",
   "execution_count": 50,
   "metadata": {},
   "outputs": [
    {
     "name": "stdout",
     "output_type": "stream",
     "text": [
      "+---------+\n",
      "|min(year)|\n",
      "+---------+\n",
      "|     2015|\n",
      "+---------+\n",
      "\n"
     ]
    }
   ],
   "source": [
    "years_column.agg({\"year\":\"min\"}).show()"
   ]
  },
  {
   "cell_type": "code",
   "execution_count": 51,
   "metadata": {},
   "outputs": [
    {
     "name": "stdout",
     "output_type": "stream",
     "text": [
      "+---------+\n",
      "|sum(year)|\n",
      "+---------+\n",
      "| 36792683|\n",
      "+---------+\n",
      "\n"
     ]
    }
   ],
   "source": [
    "years_column.agg({\"year\":\"sum\"}).show()"
   ]
  },
  {
   "cell_type": "code",
   "execution_count": 52,
   "metadata": {},
   "outputs": [
    {
     "name": "stdout",
     "output_type": "stream",
     "text": [
      "+-----------+\n",
      "|count(year)|\n",
      "+-----------+\n",
      "|      18249|\n",
      "+-----------+\n",
      "\n"
     ]
    }
   ],
   "source": [
    "years_column.agg({\"year\":\"count\"}).show() # note that we can also do this via years_column.count()"
   ]
  },
  {
   "cell_type": "markdown",
   "metadata": {},
   "source": [
    "## 1.5 Grouping Data\n",
    "Lets check how many avocados were sold in each region."
   ]
  },
  {
   "cell_type": "code",
   "execution_count": 53,
   "metadata": {},
   "outputs": [
    {
     "name": "stdout",
     "output_type": "stream",
     "text": [
      "+----------------+--------------------+\n",
      "|          region|   sum(Total Volume)|\n",
      "+----------------+--------------------+\n",
      "|   PhoenixTucson|1.9564331230078125E8|\n",
      "|     GrandRapids| 3.021173591156006E7|\n",
      "|   SouthCarolina| 6.075377267260742E7|\n",
      "|         TotalUS|   5.8647401651875E9|\n",
      "|WestTexNewMexico|1.4452183975927734E8|\n",
      "|      Louisville|1.6097002354980469E7|\n",
      "|    Philadelphia|  7.18387981315918E7|\n",
      "|      Sacramento| 7.516374691967773E7|\n",
      "|   DallasFtWorth| 2.084192865908203E8|\n",
      "|    Indianapolis| 3.026339146044922E7|\n",
      "+----------------+--------------------+\n",
      "only showing top 10 rows\n",
      "\n"
     ]
    }
   ],
   "source": [
    "avocados_sold = avocado.groupBy(\"region\").agg({\"Total Volume\": \"sum\"})\n",
    "avocados_sold.show(10)"
   ]
  },
  {
   "cell_type": "markdown",
   "metadata": {},
   "source": [
    "#### Changing column names\n",
    "The column name automatically assigned isn't very nice, let's change it"
   ]
  },
  {
   "cell_type": "code",
   "execution_count": 54,
   "metadata": {},
   "outputs": [
    {
     "name": "stdout",
     "output_type": "stream",
     "text": [
      "+------------------+--------------------+\n",
      "|            region|       avocados sold|\n",
      "+------------------+--------------------+\n",
      "|     PhoenixTucson|1.9564331230078125E8|\n",
      "|       GrandRapids| 3.021173591156006E7|\n",
      "|     SouthCarolina| 6.075377267260742E7|\n",
      "|           TotalUS|   5.8647401651875E9|\n",
      "|  WestTexNewMexico|1.4452183975927734E8|\n",
      "|        Louisville|1.6097002354980469E7|\n",
      "|      Philadelphia|  7.18387981315918E7|\n",
      "|        Sacramento| 7.516374691967773E7|\n",
      "|     DallasFtWorth| 2.084192865908203E8|\n",
      "|      Indianapolis| 3.026339146044922E7|\n",
      "|          LasVegas| 5.437690641503906E7|\n",
      "|         Nashville| 3.561208904345703E7|\n",
      "|        GreatLakes| 5.896425518476562E8|\n",
      "|           Detroit|      6.3422419375E7|\n",
      "|            Albany|1.6067799964355469E7|\n",
      "|          Portland| 1.105522113022461E8|\n",
      "|  CincinnatiDayton|4.4522007619140625E7|\n",
      "|          SanDiego| 8.979191973486328E7|\n",
      "|             Boise| 1.441318776574707E7|\n",
      "|HarrisburgScranton| 4.180885861981201E7|\n",
      "+------------------+--------------------+\n",
      "only showing top 20 rows\n",
      "\n"
     ]
    }
   ],
   "source": [
    "avocados_sold = avocados_sold.withColumnRenamed(\"sum(Total Volume)\",\"avocados sold\")\n",
    "avocados_sold.show()"
   ]
  },
  {
   "cell_type": "markdown",
   "metadata": {},
   "source": [
    "#### Calculating columns sums"
   ]
  },
  {
   "cell_type": "code",
   "execution_count": 55,
   "metadata": {},
   "outputs": [
    {
     "name": "stdout",
     "output_type": "stream",
     "text": [
      "+--------------------+\n",
      "|  sum(avocados sold)|\n",
      "+--------------------+\n",
      "|1.552340257713333...|\n",
      "+--------------------+\n",
      "\n"
     ]
    }
   ],
   "source": [
    "total_sales = avocados_sold.agg({\"avocados sold\":\"sum\"})\n",
    "total_sales.show()"
   ]
  },
  {
   "cell_type": "markdown",
   "metadata": {},
   "source": [
    "Lets extract that number as a variable"
   ]
  },
  {
   "cell_type": "code",
   "execution_count": 56,
   "metadata": {
    "collapsed": true
   },
   "outputs": [],
   "source": [
    "total_avocados_sold = total_sales.collect()[0][0]"
   ]
  },
  {
   "cell_type": "markdown",
   "metadata": {},
   "source": [
    "## 1.6 SQL Queries\n",
    "\n",
    "* Spark allows us to query our data as if it were in a relational database with SQL similar commands\n",
    "* Before we can query them, we have register them as SQL tables\n",
    "* This can either be done as a temporary table (only available in the current session) or as a global table (available across all sessions)\n",
    "* Spark's Catalyst optimmizer makes SQL queries very fast"
   ]
  },
  {
   "cell_type": "markdown",
   "metadata": {},
   "source": [
    "#### Register the dataframe as a temporary view\n",
    "\n",
    "* The view is valid for one session\n",
    "* This is required to run SQL commands on the dataframe"
   ]
  },
  {
   "cell_type": "code",
   "execution_count": 57,
   "metadata": {
    "collapsed": true
   },
   "outputs": [],
   "source": [
    "avocado.createOrReplaceTempView(\"avocado_local\")"
   ]
  },
  {
   "cell_type": "code",
   "execution_count": 58,
   "metadata": {},
   "outputs": [
    {
     "name": "stdout",
     "output_type": "stream",
     "text": [
      "+---+----------+------------+------------+-------+---------+-----+----------+----------+----------+-----------+------------+----+------+\n",
      "|_c0|      Date|AveragePrice|Total Volume|   4046|     4225| 4770|Total Bags|Small Bags|Large Bags|XLarge Bags|        type|year|region|\n",
      "+---+----------+------------+------------+-------+---------+-----+----------+----------+----------+-----------+------------+----+------+\n",
      "|  0|2015-12-27|        1.33|    64236.62|1036.74| 54454.85|48.16|   8696.87|   8603.62|     93.25|        0.0|conventional|2015|Albany|\n",
      "|  1|2015-12-20|        1.35|    54876.98| 674.28| 44638.81|58.33|   9505.56|   9408.07|     97.49|        0.0|conventional|2015|Albany|\n",
      "|  2|2015-12-13|        0.93|   118220.22|  794.7|109149.67|130.5|   8145.35|   8042.21|    103.14|        0.0|conventional|2015|Albany|\n",
      "|  3|2015-12-06|        1.08|    78992.15| 1132.0| 71976.41|72.58|   5811.16|    5677.4|    133.76|        0.0|conventional|2015|Albany|\n",
      "|  4|2015-11-29|        1.28|     51039.6| 941.48| 43838.39|75.78|   6183.95|   5986.26|    197.69|        0.0|conventional|2015|Albany|\n",
      "+---+----------+------------+------------+-------+---------+-----+----------+----------+----------+-----------+------------+----+------+\n",
      "only showing top 5 rows\n",
      "\n"
     ]
    }
   ],
   "source": [
    "all_records_df = sqlContext.sql('SELECT * FROM avocado_local')\n",
    "all_records_df.show(5)"
   ]
  },
  {
   "cell_type": "code",
   "execution_count": 59,
   "metadata": {},
   "outputs": [
    {
     "name": "stdout",
     "output_type": "stream",
     "text": [
      "+------------+----------+\n",
      "|AveragePrice|      Date|\n",
      "+------------+----------+\n",
      "|        1.33|2015-12-27|\n",
      "|        1.35|2015-12-20|\n",
      "|        0.93|2015-12-13|\n",
      "|        1.08|2015-12-06|\n",
      "|        1.28|2015-11-29|\n",
      "+------------+----------+\n",
      "only showing top 5 rows\n",
      "\n"
     ]
    }
   ],
   "source": [
    "sqlContext.sql('SELECT AveragePrice, Date FROM avocado_local').show(5)"
   ]
  },
  {
   "cell_type": "code",
   "execution_count": 60,
   "metadata": {},
   "outputs": [
    {
     "name": "stdout",
     "output_type": "stream",
     "text": [
      "+-------------------+------------+----------+\n",
      "|             Region|AveragePrice|      Date|\n",
      "+-------------------+------------+----------+\n",
      "|             Albany|        1.28|2015-11-29|\n",
      "|            Atlanta|        0.99|2015-11-29|\n",
      "|BaltimoreWashington|        1.16|2015-11-29|\n",
      "|              Boise|        1.06|2015-11-29|\n",
      "|             Boston|        1.19|2015-11-29|\n",
      "+-------------------+------------+----------+\n",
      "only showing top 5 rows\n",
      "\n"
     ]
    }
   ],
   "source": [
    "sqlContext.sql('SELECT Region, AveragePrice, Date FROM avocado_local where Date == \"2015-11-29\"').show(5)"
   ]
  },
  {
   "cell_type": "markdown",
   "metadata": {},
   "source": [
    "#### Global temporary view\n",
    "\n",
    "* Temporary view shared across multiple sessions\n",
    "* Kept alive till the Spark application terminates"
   ]
  },
  {
   "cell_type": "code",
   "execution_count": 61,
   "metadata": {
    "collapsed": true
   },
   "outputs": [],
   "source": [
    "avocado.createGlobalTempView(\"avocado_global\")"
   ]
  },
  {
   "cell_type": "markdown",
   "metadata": {},
   "source": [
    "#### Careful: The name of global tables has to be preceded by \"global.temp\""
   ]
  },
  {
   "cell_type": "code",
   "execution_count": 62,
   "metadata": {},
   "outputs": [
    {
     "name": "stdout",
     "output_type": "stream",
     "text": [
      "+---+----------+------------+------------+-------+---------+-----+----------+----------+----------+-----------+------------+----+------+\n",
      "|_c0|      Date|AveragePrice|Total Volume|   4046|     4225| 4770|Total Bags|Small Bags|Large Bags|XLarge Bags|        type|year|region|\n",
      "+---+----------+------------+------------+-------+---------+-----+----------+----------+----------+-----------+------------+----+------+\n",
      "|  0|2015-12-27|        1.33|    64236.62|1036.74| 54454.85|48.16|   8696.87|   8603.62|     93.25|        0.0|conventional|2015|Albany|\n",
      "|  1|2015-12-20|        1.35|    54876.98| 674.28| 44638.81|58.33|   9505.56|   9408.07|     97.49|        0.0|conventional|2015|Albany|\n",
      "|  2|2015-12-13|        0.93|   118220.22|  794.7|109149.67|130.5|   8145.35|   8042.21|    103.14|        0.0|conventional|2015|Albany|\n",
      "|  3|2015-12-06|        1.08|    78992.15| 1132.0| 71976.41|72.58|   5811.16|    5677.4|    133.76|        0.0|conventional|2015|Albany|\n",
      "|  4|2015-11-29|        1.28|     51039.6| 941.48| 43838.39|75.78|   6183.95|   5986.26|    197.69|        0.0|conventional|2015|Albany|\n",
      "+---+----------+------------+------------+-------+---------+-----+----------+----------+----------+-----------+------------+----+------+\n",
      "only showing top 5 rows\n",
      "\n"
     ]
    }
   ],
   "source": [
    "sqlContext.sql('SELECT * FROM global_temp.avocado_global').show(5)"
   ]
  },
  {
   "cell_type": "markdown",
   "metadata": {},
   "source": [
    "## 1.7 Ordering"
   ]
  },
  {
   "cell_type": "markdown",
   "metadata": {},
   "source": [
    "#### We can order tables directly via a SQL query"
   ]
  },
  {
   "cell_type": "code",
   "execution_count": 63,
   "metadata": {},
   "outputs": [
    {
     "name": "stdout",
     "output_type": "stream",
     "text": [
      "+----------+------------+----------------+\n",
      "|      Date|AveragePrice|          Region|\n",
      "+----------+------------+----------------+\n",
      "|2015-12-27|        0.71|WestTexNewMexico|\n",
      "|2015-11-22|        0.78|WestTexNewMexico|\n",
      "|2015-12-20|        0.83|WestTexNewMexico|\n",
      "|2015-12-13|        0.78|WestTexNewMexico|\n",
      "|2015-12-06|        0.74|WestTexNewMexico|\n",
      "+----------+------------+----------------+\n",
      "only showing top 5 rows\n",
      "\n"
     ]
    }
   ],
   "source": [
    "regions = spark.sql(\"SELECT Date, AveragePrice, Region FROM global_temp.avocado_global ORDER BY Region Desc\")\n",
    "regions.show(5)"
   ]
  },
  {
   "cell_type": "markdown",
   "metadata": {},
   "source": [
    "#### But watch out that the type of the column is what you were expecting it to be. Integers classified as strings will return unexpected results"
   ]
  },
  {
   "cell_type": "code",
   "execution_count": 64,
   "metadata": {},
   "outputs": [
    {
     "name": "stdout",
     "output_type": "stream",
     "text": [
      "+----------+------------+-----------------+\n",
      "|      Date|AveragePrice|           Region|\n",
      "+----------+------------+-----------------+\n",
      "|2016-10-30|        3.25|     SanFrancisco|\n",
      "|2017-04-16|        3.17|            Tampa|\n",
      "|2016-11-06|        3.12|     SanFrancisco|\n",
      "|2017-03-12|        3.05|MiamiFtLauderdale|\n",
      "|2017-08-27|        3.04|RaleighGreensboro|\n",
      "+----------+------------+-----------------+\n",
      "only showing top 5 rows\n",
      "\n"
     ]
    }
   ],
   "source": [
    "prices = spark.sql(\"SELECT Date, AveragePrice, Region FROM global_temp.avocado_global ORDER BY AveragePrice Desc\")\n",
    "prices.show(5)"
   ]
  },
  {
   "cell_type": "markdown",
   "metadata": {},
   "source": [
    "#### We can also order regular spark DFs"
   ]
  },
  {
   "cell_type": "code",
   "execution_count": 65,
   "metadata": {},
   "outputs": [
    {
     "name": "stdout",
     "output_type": "stream",
     "text": [
      "+----------+------------+------+\n",
      "|      Date|AveragePrice|region|\n",
      "+----------+------------+------+\n",
      "|2015-12-27|        1.33|Albany|\n",
      "|2015-12-20|        1.35|Albany|\n",
      "|2015-12-13|        0.93|Albany|\n",
      "|2015-12-06|        1.08|Albany|\n",
      "|2015-11-29|        1.28|Albany|\n",
      "+----------+------------+------+\n",
      "only showing top 5 rows\n",
      "\n"
     ]
    }
   ],
   "source": [
    "avocado_order = avocado.select(\"Date\", \"AveragePrice\",\"region\" )\n",
    "avocado_order.show(5)"
   ]
  },
  {
   "cell_type": "code",
   "execution_count": 66,
   "metadata": {},
   "outputs": [
    {
     "name": "stdout",
     "output_type": "stream",
     "text": [
      "+----------+------------+-------------------+\n",
      "|      Date|AveragePrice|             region|\n",
      "+----------+------------+-------------------+\n",
      "|2018-03-25|        1.04|            Atlanta|\n",
      "|2018-03-25|        1.23|BaltimoreWashington|\n",
      "|2018-03-25|        1.57|             Albany|\n",
      "|2018-03-25|        1.21|   BuffaloRochester|\n",
      "|2018-03-25|        1.28|              Boise|\n",
      "+----------+------------+-------------------+\n",
      "only showing top 5 rows\n",
      "\n"
     ]
    }
   ],
   "source": [
    "avocado_order.orderBy(avocado.Date.desc()).show(5)"
   ]
  },
  {
   "cell_type": "markdown",
   "metadata": {},
   "source": [
    "# 1.8 Plotting Avocado Revenue\n",
    "Lets say we'd want to see how the total revenue for non-organic avocados in Las Vegas of xy has developed over time"
   ]
  },
  {
   "cell_type": "code",
   "execution_count": 67,
   "metadata": {},
   "outputs": [
    {
     "name": "stdout",
     "output_type": "stream",
     "text": [
      "+---+----------+------------+------------+-------+---------+-----+----------+----------+----------+-----------+------------+----+------+\n",
      "|_c0|      Date|AveragePrice|Total Volume|   4046|     4225| 4770|Total Bags|Small Bags|Large Bags|XLarge Bags|        type|year|region|\n",
      "+---+----------+------------+------------+-------+---------+-----+----------+----------+----------+-----------+------------+----+------+\n",
      "|  0|2015-12-27|        1.33|    64236.62|1036.74| 54454.85|48.16|   8696.87|   8603.62|     93.25|        0.0|conventional|2015|Albany|\n",
      "|  1|2015-12-20|        1.35|    54876.98| 674.28| 44638.81|58.33|   9505.56|   9408.07|     97.49|        0.0|conventional|2015|Albany|\n",
      "|  2|2015-12-13|        0.93|   118220.22|  794.7|109149.67|130.5|   8145.35|   8042.21|    103.14|        0.0|conventional|2015|Albany|\n",
      "|  3|2015-12-06|        1.08|    78992.15| 1132.0| 71976.41|72.58|   5811.16|    5677.4|    133.76|        0.0|conventional|2015|Albany|\n",
      "|  4|2015-11-29|        1.28|     51039.6| 941.48| 43838.39|75.78|   6183.95|   5986.26|    197.69|        0.0|conventional|2015|Albany|\n",
      "+---+----------+------------+------------+-------+---------+-----+----------+----------+----------+-----------+------------+----+------+\n",
      "only showing top 5 rows\n",
      "\n"
     ]
    }
   ],
   "source": [
    "avocado.show(5) # our initial data"
   ]
  },
  {
   "cell_type": "markdown",
   "metadata": {},
   "source": [
    "#### We only select the columns we are interested in"
   ]
  },
  {
   "cell_type": "code",
   "execution_count": 68,
   "metadata": {
    "collapsed": true
   },
   "outputs": [],
   "source": [
    "avocado_ = avocado.select(\"Date\", \"AveragePrice\", \"Total Volume\", \"type\", \"region\")"
   ]
  },
  {
   "cell_type": "markdown",
   "metadata": {},
   "source": [
    "#### We filter for all conventional avocados in one location"
   ]
  },
  {
   "cell_type": "code",
   "execution_count": 69,
   "metadata": {
    "collapsed": true
   },
   "outputs": [],
   "source": [
    "avocado_by_region = avocado_.filter((avocado_[\"region\"] == \"LasVegas\") & (avocado_[\"type\"] == \"conventional\"))\n"
   ]
  },
  {
   "cell_type": "markdown",
   "metadata": {},
   "source": [
    "#### Create a new column with the revenue"
   ]
  },
  {
   "cell_type": "code",
   "execution_count": 70,
   "metadata": {
    "collapsed": true
   },
   "outputs": [],
   "source": [
    "import pyspark.sql.functions as func # we import this package from "
   ]
  },
  {
   "cell_type": "code",
   "execution_count": 71,
   "metadata": {
    "collapsed": true
   },
   "outputs": [],
   "source": [
    "avocado_revenue = avocado_by_region.withColumn(\"revenue\", func.round(avocado_by_region.AveragePrice * \n",
    "                                               avocado_by_region[\"Total Volume\"]))"
   ]
  },
  {
   "cell_type": "markdown",
   "metadata": {},
   "source": [
    "#### Convert the date row into timestamp values\n"
   ]
  },
  {
   "cell_type": "code",
   "execution_count": 72,
   "metadata": {
    "collapsed": true
   },
   "outputs": [],
   "source": [
    "avocado_revenue = avocado_revenue.withColumn(\"date\", func.to_timestamp(avocado_revenue.Date, 'yyyy-MM-dd'))"
   ]
  },
  {
   "cell_type": "markdown",
   "metadata": {},
   "source": [
    "#### Create the plot"
   ]
  },
  {
   "cell_type": "code",
   "execution_count": 73,
   "metadata": {},
   "outputs": [
    {
     "name": "stderr",
     "output_type": "stream",
     "text": [
      "/Applications/anaconda3/lib/python3.6/site-packages/matplotlib/cbook/deprecation.py:106: MatplotlibDeprecationWarning: Adding an axes using the same arguments as a previous axes currently reuses the earlier instance.  In a future version, a new instance will always be created and returned.  Meanwhile, this warning can be suppressed, and the future behavior ensured, by passing a unique label to each axes instance.\n",
      "  warnings.warn(message, mplDeprecation, stacklevel=1)\n"
     ]
    },
    {
     "data": {
      "image/png": "[encoded data removed]",
      "text/plain": [
       "<matplotlib.figure.Figure at 0x11c7b24e0>"
      ]
     },
     "metadata": {},
     "output_type": "display_data"
    }
   ],
   "source": [
    "import matplotlib as mpl\n",
    "import matplotlib.pyplot as plt\n",
    "%matplotlib inline\n",
    "\n",
    "x = [x[0] for x in avocado_revenue.toLocalIterator()]\n",
    "y = [x[5] for x in avocado_revenue.toLocalIterator()]\n",
    "\n",
    "plt.scatter(x,y)\n",
    "plt.xticks(x, rotation='vertical')\n",
    "ax = plt.axes()\n",
    "\n",
    "ax.xaxis.set_major_locator(plt.MaxNLocator(4))\n",
    "\n",
    "plt.show()"
   ]
  },
  {
   "cell_type": "markdown",
   "metadata": {},
   "source": [
    "#### Looks like the result we were looking for. Lets save it as a csv locally as well"
   ]
  },
  {
   "cell_type": "code",
   "execution_count": 75,
   "metadata": {
    "collapsed": true
   },
   "outputs": [],
   "source": [
    "avocado_revenue.repartition(1).write.csv(\"/Users/dominiquepaul/xJob/3-Spark/1-Output/data/output_csv.csv\", sep=',')"
   ]
  }
 ],
 "metadata": {
  "kernelspec": {
   "display_name": "Python 3",
   "language": "python",
   "name": "python3"
  },
  "language_info": {
   "codemirror_mode": {
    "name": "ipython",
    "version": 3
   },
   "file_extension": ".py",
   "mimetype": "text/x-python",
   "name": "python",
   "nbconvert_exporter": "python",
   "pygments_lexer": "ipython3",
   "version": "3.6.3"
  }
 },
 "nbformat": 4,
 "nbformat_minor": 2
}
