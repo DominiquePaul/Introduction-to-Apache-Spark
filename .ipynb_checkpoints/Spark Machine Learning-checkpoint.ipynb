{
 "cells": [
  {
   "cell_type": "markdown",
   "metadata": {},
   "source": [
    "# Structure\n",
    "1. Linear Regression\n",
    "2. Decision Tree\n",
    "3. Clustering / PCA "
   ]
  },
  {
   "cell_type": "markdown",
   "metadata": {},
   "source": [
    "# 1. ElasticNet Regression\n",
    "We use the dataset on house prices in Melbourne to predict the selling prices of real estate.\n",
    "\n",
    "<b>In this tutorial we will:</b> \n",
    "* Use the Spark ML library\n",
    "* Learn how to perform an elasticNet regression\n",
    "* Learn how to create a machine learning pipeline in Spark\n",
    "* Learn how to evaluate a model\n",
    "* Learn how to use the hyperparameter tuning set of Spark to find the ideal parameters for our model\n",
    "\n",
    "\n",
    "<b>Methods used:</b>\n",
    "\n",
    "This Notebook uses an elastic net regression, which is a combination of a Ridge and Lasso Regression. Links to refresh your knowledge on what an elastic net regression is are provided below. However, all code is intentionally writte in a manner that will allow you to understand the Spark code without any knowledge on what an elastic net regression is.\n",
    "\n",
    "\n",
    "Information on elastic net regression and its components can be found at the following sources:\n",
    "* Elastic Net R-Bloggers post: https://www.r-bloggers.com/kickin-it-with-elastic-net-regression/\n",
    "* ElasticNet slides: https://web.stanford.edu/~hastie/TALKS/enet_talk.pdf\n",
    "* Ridge Regression: p. 215 Introduction to Statistical Learning\n",
    "* Lasso Regression: p. 219 Introduction to Statistical Learning\n",
    "\n",
    "Link to Book: https://www-bcf.usc.edu/~gareth/ISL/ISLR%20First%20Printing.pdf\n",
    "\n"
   ]
  },
  {
   "cell_type": "code",
   "execution_count": 4,
   "metadata": {},
   "outputs": [
    {
     "data": {
      "text/html": [
       "<iframe width=\"560\" height=\"315\" src=\"https://www.youtube.com/embed/jbwSCwoT51M\" frameborder=\"0\" allow=\"autoplay; encrypted-media\" allowfullscreen></iframe>"
      ],
      "text/plain": [
       "<IPython.core.display.HTML object>"
      ]
     },
     "execution_count": 4,
     "metadata": {},
     "output_type": "execute_result"
    }
   ],
   "source": [
    "from IPython.display import HTML\n",
    "HTML('<iframe width=\"560\" height=\"315\" src=\"https://www.youtube.com/embed/jbwSCwoT51M\" frameborder=\"0\" allow=\"autoplay; encrypted-media\" allowfullscreen></iframe>')"
   ]
  },
  {
   "cell_type": "code",
   "execution_count": 5,
   "metadata": {},
   "outputs": [
    {
     "data": {
      "text/html": [
       "<iframe width=\"560\" height=\"315\" src=\"https://www.youtube.com/embed/5asL5Eq2x0A\" frameborder=\"0\" allow=\"autoplay; encrypted-media\" allowfullscreen></iframe>"
      ],
      "text/plain": [
       "<IPython.core.display.HTML object>"
      ]
     },
     "execution_count": 5,
     "metadata": {},
     "output_type": "execute_result"
    }
   ],
   "source": [
    "HTML('<iframe width=\"560\" height=\"315\" src=\"https://www.youtube.com/embed/5asL5Eq2x0A\" frameborder=\"0\" allow=\"autoplay; encrypted-media\" allowfullscreen></iframe>')"
   ]
  },
  {
   "cell_type": "markdown",
   "metadata": {},
   "source": [
    "### 1.1 Import the data set"
   ]
  },
  {
   "cell_type": "code",
   "execution_count": 6,
   "metadata": {},
   "outputs": [],
   "source": [
    "rawData = spark.read\\\n",
    "            .format('csv')\\\n",
    "            .option('header', 'True')\\\n",
    "            .load('/Users/dominiquepaul/xJob/3-Spark/1-Output/data/MELBOURNE_HOUSE_PRICES_LESS.csv')"
   ]
  },
  {
   "cell_type": "markdown",
   "metadata": {},
   "source": [
    "#### Selecting Columns \n",
    "This is our data set as loaded. It contains many columns, but we will focus only on a few"
   ]
  },
  {
   "cell_type": "code",
   "execution_count": 7,
   "metadata": {
    "collapsed": true
   },
   "outputs": [],
   "source": [
    "data = rawData.select(\"Type\", \"Rooms\",\"Distance\",\"Regionname\",\"Price\")"
   ]
  },
  {
   "cell_type": "markdown",
   "metadata": {},
   "source": [
    "#### Schema:\n",
    "The data on the radius has been loaded as a string, but we need it as a numerical value (i.e. a float), so we convert the column values. \n",
    "(this could have been performed with the last step as well) "
   ]
  },
  {
   "cell_type": "code",
   "execution_count": 8,
   "metadata": {},
   "outputs": [
    {
     "name": "stdout",
     "output_type": "stream",
     "text": [
      "root\n",
      " |-- Type: string (nullable = true)\n",
      " |-- Rooms: string (nullable = true)\n",
      " |-- Distance: string (nullable = true)\n",
      " |-- Regionname: string (nullable = true)\n",
      " |-- Price: string (nullable = true)\n",
      "\n"
     ]
    }
   ],
   "source": [
    "data.printSchema()"
   ]
  },
  {
   "cell_type": "code",
   "execution_count": 9,
   "metadata": {
    "collapsed": true
   },
   "outputs": [],
   "source": [
    "from pyspark.sql.functions import col\n",
    "\n",
    "data = data.select(\n",
    "        col(\"Type\"), \n",
    "        col(\"Rooms\").cast(\"float\"),\n",
    "        col(\"Regionname\"),\n",
    "        col(\"Distance\").cast(\"float\"),\n",
    "        col(\"Price\").cast(\"float\")\n",
    "        )"
   ]
  },
  {
   "cell_type": "markdown",
   "metadata": {},
   "source": [
    "### 1.2 Preparing the Data"
   ]
  },
  {
   "cell_type": "markdown",
   "metadata": {},
   "source": [
    "#### Deleting NaN values\n",
    "Some of the values are missing so we delete them"
   ]
  },
  {
   "cell_type": "code",
   "execution_count": 10,
   "metadata": {},
   "outputs": [
    {
     "data": {
      "text/plain": [
       "60672"
      ]
     },
     "execution_count": 10,
     "metadata": {},
     "output_type": "execute_result"
    }
   ],
   "source": [
    "data.count()"
   ]
  },
  {
   "cell_type": "code",
   "execution_count": 11,
   "metadata": {
    "collapsed": true
   },
   "outputs": [],
   "source": [
    "data = data.dropna(how = \"any\")"
   ]
  },
  {
   "cell_type": "code",
   "execution_count": 12,
   "metadata": {},
   "outputs": [
    {
     "data": {
      "text/plain": [
       "46836"
      ]
     },
     "execution_count": 12,
     "metadata": {},
     "output_type": "execute_result"
    }
   ],
   "source": [
    "data.count()"
   ]
  },
  {
   "cell_type": "markdown",
   "metadata": {},
   "source": [
    "#### Splitting the data\n",
    "We split the data into a training and a test data set for later "
   ]
  },
  {
   "cell_type": "code",
   "execution_count": 13,
   "metadata": {},
   "outputs": [
    {
     "name": "stdout",
     "output_type": "stream",
     "text": [
      "root\n",
      " |-- Type: string (nullable = true)\n",
      " |-- Rooms: float (nullable = true)\n",
      " |-- Regionname: string (nullable = true)\n",
      " |-- Distance: float (nullable = true)\n",
      " |-- Price: float (nullable = true)\n",
      "\n"
     ]
    }
   ],
   "source": [
    "data.printSchema()"
   ]
  },
  {
   "cell_type": "code",
   "execution_count": 14,
   "metadata": {
    "collapsed": true
   },
   "outputs": [],
   "source": [
    "(trainingData, testData) = data.randomSplit([0.8,0.2])"
   ]
  },
  {
   "cell_type": "code",
   "execution_count": 15,
   "metadata": {},
   "outputs": [
    {
     "data": {
      "text/plain": [
       "37502"
      ]
     },
     "execution_count": 15,
     "metadata": {},
     "output_type": "execute_result"
    }
   ],
   "source": [
    "trainingData.count()"
   ]
  },
  {
   "cell_type": "code",
   "execution_count": 16,
   "metadata": {},
   "outputs": [
    {
     "name": "stdout",
     "output_type": "stream",
     "text": [
      "root\n",
      " |-- Type: string (nullable = true)\n",
      " |-- Rooms: float (nullable = true)\n",
      " |-- Regionname: string (nullable = true)\n",
      " |-- Distance: float (nullable = true)\n",
      " |-- Price: float (nullable = true)\n",
      "\n"
     ]
    }
   ],
   "source": [
    "trainingData.printSchema()"
   ]
  },
  {
   "cell_type": "markdown",
   "metadata": {},
   "source": [
    "#### We list the categorical fields so we can transform them into encoded values\n",
    "The field \"type\" is categorical, we want to transform it into the one hot encoding format to be able to accurately use it for our linear regression. We use a list to process all columns easier"
   ]
  },
  {
   "cell_type": "code",
   "execution_count": 17,
   "metadata": {
    "collapsed": true
   },
   "outputs": [],
   "source": [
    "categoricalFeatures = [\"Type\",\n",
    "                      \"Regionname\"]"
   ]
  },
  {
   "cell_type": "markdown",
   "metadata": {},
   "source": [
    "#### Import the required transformers"
   ]
  },
  {
   "cell_type": "code",
   "execution_count": 18,
   "metadata": {
    "collapsed": true
   },
   "outputs": [],
   "source": [
    "from pyspark.ml.feature import StringIndexer\n",
    "from pyspark.ml.feature import OneHotEncoder\n",
    "from pyspark.ml.feature import VectorAssembler"
   ]
  },
  {
   "cell_type": "markdown",
   "metadata": {},
   "source": [
    "#### The String indexer transforms strings into a unique number"
   ]
  },
  {
   "cell_type": "code",
   "execution_count": 19,
   "metadata": {
    "collapsed": true
   },
   "outputs": [],
   "source": [
    "indexers = [StringIndexer(\n",
    "    inputCol = column,\n",
    "    outputCol = column + \"_index\",\n",
    "    handleInvalid=\"keep\") for column in categoricalFeatures]"
   ]
  },
  {
   "cell_type": "markdown",
   "metadata": {},
   "source": [
    "#### One-Hot Encode the features"
   ]
  },
  {
   "cell_type": "code",
   "execution_count": 20,
   "metadata": {
    "collapsed": true
   },
   "outputs": [],
   "source": [
    "encoders = [OneHotEncoder(\n",
    "    inputCol = column + \"_index\",\n",
    "    outputCol = column + \"_encoded\") for column in categoricalFeatures]"
   ]
  },
  {
   "cell_type": "markdown",
   "metadata": {},
   "source": [
    "#### We create a list of the required input features for the linear regression"
   ]
  },
  {
   "cell_type": "code",
   "execution_count": 21,
   "metadata": {
    "collapsed": true
   },
   "outputs": [],
   "source": [
    "features = [\"Type_encoded\", \n",
    "            \"Regionname_encoded\", \n",
    "            \"Distance\", \n",
    "            \"Rooms\"]"
   ]
  },
  {
   "cell_type": "markdown",
   "metadata": {},
   "source": [
    "#### Creating the feature Assembler\n",
    "The feature assembler prepares our dataset to be fed into an estimator. It essentially splits our dataset into input values and the values to be predicted / the labels. The format is a vectorized format which is expected by the ML library"
   ]
  },
  {
   "cell_type": "code",
   "execution_count": 22,
   "metadata": {
    "collapsed": true
   },
   "outputs": [],
   "source": [
    "assembler = VectorAssembler(inputCols = features, outputCol=\"features_vectorized\")"
   ]
  },
  {
   "cell_type": "markdown",
   "metadata": {},
   "source": [
    "### 1.3 Generating the model"
   ]
  },
  {
   "cell_type": "markdown",
   "metadata": {},
   "source": [
    "#### Setting up the Linear Regression\n",
    "This is the function for creating a linear regression model.  \n",
    "\n",
    "Through the use of a property, the linear regression model contains both L1 and L2 regularization as special cases\n",
    "* if the elasticNetParam is set to 1, it is the same as a Lasso model\n",
    "* if the elasticNetParam is set to 0, it is the same as a Ridge regression model\n",
    "* the fixed regularization parameter lambda (regParam) defines the trade-off between the two goals of minimizing the loss (i.e. training error) and minimizing the model complexity (i.e. avoid overfitting)\n",
    "* if the constraint constant regParam is set to 0, then the model behaves like a OLS regression model"
   ]
  },
  {
   "cell_type": "code",
   "execution_count": 23,
   "metadata": {
    "collapsed": true
   },
   "outputs": [],
   "source": [
    "from pyspark.ml.regression import LinearRegression\n",
    "\n",
    "lr = LinearRegression(maxIter=10,\n",
    "                      regParam=0.3,\n",
    "                      elasticNetParam=0.3,\n",
    "                      labelCol=\"Price\", \n",
    "                      featuresCol=\"features_vectorized\")"
   ]
  },
  {
   "cell_type": "markdown",
   "metadata": {},
   "source": [
    "#### Defining the pipeline\n",
    "\n",
    "The pipeline links together all our previous actions. Our pipeline includes all transformers and the our estimator (the model). "
   ]
  },
  {
   "cell_type": "code",
   "execution_count": 24,
   "metadata": {
    "collapsed": true
   },
   "outputs": [],
   "source": [
    "from pyspark.ml import Pipeline\n",
    "\n",
    "pipeline = Pipeline(stages = indexers + encoders + [assembler, lr])"
   ]
  },
  {
   "cell_type": "code",
   "execution_count": 25,
   "metadata": {},
   "outputs": [
    {
     "data": {
      "text/plain": [
       "PipelineModel_45688623d374a0295a85"
      ]
     },
     "execution_count": 25,
     "metadata": {},
     "output_type": "execute_result"
    }
   ],
   "source": [
    "model = pipeline.fit(trainingData)\n",
    "model"
   ]
  },
  {
   "cell_type": "markdown",
   "metadata": {},
   "source": [
    "#### Get model from pipeline and print statistics\n",
    "* Our linear regression model is not the same as the pipeline model\n",
    "* It is located in the last stage of the pipeline, so we extract it"
   ]
  },
  {
   "cell_type": "code",
   "execution_count": 26,
   "metadata": {
    "collapsed": true
   },
   "outputs": [],
   "source": [
    "lr_model = model.stages[-1]"
   ]
  },
  {
   "cell_type": "code",
   "execution_count": 27,
   "metadata": {},
   "outputs": [
    {
     "name": "stdout",
     "output_type": "stream",
     "text": [
      "Training RMSE =  413073.18891362334\n",
      "Training R^2 score =  0.522169539797906\n"
     ]
    }
   ],
   "source": [
    "print('Training RMSE = ', lr_model.summary.rootMeanSquaredError)\n",
    "print('Training R^2 score = ', lr_model.summary.r2)"
   ]
  },
  {
   "cell_type": "code",
   "execution_count": 28,
   "metadata": {},
   "outputs": [
    {
     "data": {
      "text/html": [
       "<div>\n",
       "<style scoped>\n",
       "    .dataframe tbody tr th:only-of-type {\n",
       "        vertical-align: middle;\n",
       "    }\n",
       "\n",
       "    .dataframe tbody tr th {\n",
       "        vertical-align: top;\n",
       "    }\n",
       "\n",
       "    .dataframe thead th {\n",
       "        text-align: right;\n",
       "    }\n",
       "</style>\n",
       "<table border=\"1\" class=\"dataframe\">\n",
       "  <thead>\n",
       "    <tr style=\"text-align: right;\">\n",
       "      <th></th>\n",
       "      <th>Type</th>\n",
       "      <th>Rooms</th>\n",
       "      <th>Regionname</th>\n",
       "      <th>Distance</th>\n",
       "      <th>Price</th>\n",
       "    </tr>\n",
       "  </thead>\n",
       "  <tbody>\n",
       "    <tr>\n",
       "      <th>0</th>\n",
       "      <td>h</td>\n",
       "      <td>3.0</td>\n",
       "      <td>Northern Metropolitan</td>\n",
       "      <td>3.0</td>\n",
       "      <td>1490000.0</td>\n",
       "    </tr>\n",
       "    <tr>\n",
       "      <th>1</th>\n",
       "      <td>h</td>\n",
       "      <td>3.0</td>\n",
       "      <td>Northern Metropolitan</td>\n",
       "      <td>3.0</td>\n",
       "      <td>1220000.0</td>\n",
       "    </tr>\n",
       "    <tr>\n",
       "      <th>2</th>\n",
       "      <td>h</td>\n",
       "      <td>3.0</td>\n",
       "      <td>Northern Metropolitan</td>\n",
       "      <td>3.0</td>\n",
       "      <td>1420000.0</td>\n",
       "    </tr>\n",
       "    <tr>\n",
       "      <th>3</th>\n",
       "      <td>h</td>\n",
       "      <td>3.0</td>\n",
       "      <td>Western Metropolitan</td>\n",
       "      <td>7.5</td>\n",
       "      <td>1515000.0</td>\n",
       "    </tr>\n",
       "    <tr>\n",
       "      <th>4</th>\n",
       "      <td>h</td>\n",
       "      <td>2.0</td>\n",
       "      <td>Western Metropolitan</td>\n",
       "      <td>10.4</td>\n",
       "      <td>670000.0</td>\n",
       "    </tr>\n",
       "  </tbody>\n",
       "</table>\n",
       "</div>"
      ],
      "text/plain": [
       "  Type  Rooms             Regionname  Distance      Price\n",
       "0    h    3.0  Northern Metropolitan       3.0  1490000.0\n",
       "1    h    3.0  Northern Metropolitan       3.0  1220000.0\n",
       "2    h    3.0  Northern Metropolitan       3.0  1420000.0\n",
       "3    h    3.0   Western Metropolitan       7.5  1515000.0\n",
       "4    h    2.0   Western Metropolitan      10.4   670000.0"
      ]
     },
     "execution_count": 28,
     "metadata": {},
     "output_type": "execute_result"
    }
   ],
   "source": [
    "data.toPandas().head()"
   ]
  },
  {
   "cell_type": "code",
   "execution_count": 29,
   "metadata": {},
   "outputs": [
    {
     "data": {
      "text/plain": [
       "0.6565077455886515"
      ]
     },
     "execution_count": 29,
     "metadata": {},
     "output_type": "execute_result"
    }
   ],
   "source": [
    "0.6565077455886515"
   ]
  },
  {
   "cell_type": "markdown",
   "metadata": {},
   "source": [
    "#### Number of features and the coefficients\n",
    "That's weird. Didn't we use four features? \n",
    "Yes, but remember that we one hot encoded them, creating many columns where the values are only 0 or 1"
   ]
  },
  {
   "cell_type": "code",
   "execution_count": 30,
   "metadata": {},
   "outputs": [
    {
     "data": {
      "text/plain": [
       "13"
      ]
     },
     "execution_count": 30,
     "metadata": {},
     "output_type": "execute_result"
    }
   ],
   "source": [
    "lr_model.numFeatures"
   ]
  },
  {
   "cell_type": "code",
   "execution_count": 31,
   "metadata": {},
   "outputs": [
    {
     "data": {
      "text/plain": [
       "DenseVector([191671.1457, -242030.5602, -31170.0987, -218637.1582, 331643.5002, -311135.9594, 56826.1327, 229359.8365, 196603.5638, 285138.6533, -42812.6339, -38576.0915, 245409.9604])"
      ]
     },
     "execution_count": 31,
     "metadata": {},
     "output_type": "execute_result"
    }
   ],
   "source": [
    "lr_model.coefficients"
   ]
  },
  {
   "cell_type": "markdown",
   "metadata": {},
   "source": [
    "### 1.4 Model Evaluation \n",
    "\n",
    "#### Generating Predictions\n",
    "Lets have a look at the entire table of the test dataset after creating the predictions"
   ]
  },
  {
   "cell_type": "code",
   "execution_count": 32,
   "metadata": {},
   "outputs": [
    {
     "data": {
      "text/html": [
       "<div>\n",
       "<style scoped>\n",
       "    .dataframe tbody tr th:only-of-type {\n",
       "        vertical-align: middle;\n",
       "    }\n",
       "\n",
       "    .dataframe tbody tr th {\n",
       "        vertical-align: top;\n",
       "    }\n",
       "\n",
       "    .dataframe thead th {\n",
       "        text-align: right;\n",
       "    }\n",
       "</style>\n",
       "<table border=\"1\" class=\"dataframe\">\n",
       "  <thead>\n",
       "    <tr style=\"text-align: right;\">\n",
       "      <th></th>\n",
       "      <th>Type</th>\n",
       "      <th>Rooms</th>\n",
       "      <th>Regionname</th>\n",
       "      <th>Distance</th>\n",
       "      <th>Price</th>\n",
       "      <th>Type_index</th>\n",
       "      <th>Regionname_index</th>\n",
       "      <th>Type_encoded</th>\n",
       "      <th>Regionname_encoded</th>\n",
       "      <th>features_vectorized</th>\n",
       "      <th>prediction</th>\n",
       "    </tr>\n",
       "  </thead>\n",
       "  <tbody>\n",
       "    <tr>\n",
       "      <th>0</th>\n",
       "      <td>h</td>\n",
       "      <td>1.0</td>\n",
       "      <td>Eastern Metropolitan</td>\n",
       "      <td>8.8</td>\n",
       "      <td>405000.0</td>\n",
       "      <td>0.0</td>\n",
       "      <td>3.0</td>\n",
       "      <td>(1.0, 0.0, 0.0)</td>\n",
       "      <td>(0.0, 0.0, 0.0, 1.0, 0.0, 0.0, 0.0, 0.0)</td>\n",
       "      <td>(1.0, 0.0, 0.0, 0.0, 0.0, 0.0, 1.0, 0.0, 0.0, ...</td>\n",
       "      <td>809232.511422</td>\n",
       "    </tr>\n",
       "    <tr>\n",
       "      <th>1</th>\n",
       "      <td>h</td>\n",
       "      <td>1.0</td>\n",
       "      <td>Eastern Metropolitan</td>\n",
       "      <td>15.4</td>\n",
       "      <td>360000.0</td>\n",
       "      <td>0.0</td>\n",
       "      <td>3.0</td>\n",
       "      <td>(1.0, 0.0, 0.0)</td>\n",
       "      <td>(0.0, 0.0, 0.0, 1.0, 0.0, 0.0, 0.0, 0.0)</td>\n",
       "      <td>(1.0, 0.0, 0.0, 0.0, 0.0, 0.0, 1.0, 0.0, 0.0, ...</td>\n",
       "      <td>554630.329445</td>\n",
       "    </tr>\n",
       "    <tr>\n",
       "      <th>2</th>\n",
       "      <td>h</td>\n",
       "      <td>1.0</td>\n",
       "      <td>Northern Metropolitan</td>\n",
       "      <td>1.6</td>\n",
       "      <td>1252000.0</td>\n",
       "      <td>0.0</td>\n",
       "      <td>0.0</td>\n",
       "      <td>(1.0, 0.0, 0.0)</td>\n",
       "      <td>(1.0, 0.0, 0.0, 0.0, 0.0, 0.0, 0.0, 0.0)</td>\n",
       "      <td>(1.0, 0.0, 0.0, 1.0, 0.0, 0.0, 0.0, 0.0, 0.0, ...</td>\n",
       "      <td>811517.085919</td>\n",
       "    </tr>\n",
       "    <tr>\n",
       "      <th>3</th>\n",
       "      <td>h</td>\n",
       "      <td>1.0</td>\n",
       "      <td>Northern Metropolitan</td>\n",
       "      <td>2.4</td>\n",
       "      <td>1117000.0</td>\n",
       "      <td>0.0</td>\n",
       "      <td>0.0</td>\n",
       "      <td>(1.0, 0.0, 0.0)</td>\n",
       "      <td>(1.0, 0.0, 0.0, 0.0, 0.0, 0.0, 0.0, 0.0)</td>\n",
       "      <td>(1.0, 0.0, 0.0, 1.0, 0.0, 0.0, 0.0, 0.0, 0.0, ...</td>\n",
       "      <td>780656.209941</td>\n",
       "    </tr>\n",
       "    <tr>\n",
       "      <th>4</th>\n",
       "      <td>h</td>\n",
       "      <td>1.0</td>\n",
       "      <td>Northern Metropolitan</td>\n",
       "      <td>3.4</td>\n",
       "      <td>250000.0</td>\n",
       "      <td>0.0</td>\n",
       "      <td>0.0</td>\n",
       "      <td>(1.0, 0.0, 0.0)</td>\n",
       "      <td>(1.0, 0.0, 0.0, 0.0, 0.0, 0.0, 0.0, 0.0)</td>\n",
       "      <td>(1.0, 0.0, 0.0, 1.0, 0.0, 0.0, 0.0, 0.0, 0.0, ...</td>\n",
       "      <td>742080.118419</td>\n",
       "    </tr>\n",
       "  </tbody>\n",
       "</table>\n",
       "</div>"
      ],
      "text/plain": [
       "  Type  Rooms             Regionname  Distance      Price  Type_index  \\\n",
       "0    h    1.0   Eastern Metropolitan       8.8   405000.0         0.0   \n",
       "1    h    1.0   Eastern Metropolitan      15.4   360000.0         0.0   \n",
       "2    h    1.0  Northern Metropolitan       1.6  1252000.0         0.0   \n",
       "3    h    1.0  Northern Metropolitan       2.4  1117000.0         0.0   \n",
       "4    h    1.0  Northern Metropolitan       3.4   250000.0         0.0   \n",
       "\n",
       "   Regionname_index     Type_encoded  \\\n",
       "0               3.0  (1.0, 0.0, 0.0)   \n",
       "1               3.0  (1.0, 0.0, 0.0)   \n",
       "2               0.0  (1.0, 0.0, 0.0)   \n",
       "3               0.0  (1.0, 0.0, 0.0)   \n",
       "4               0.0  (1.0, 0.0, 0.0)   \n",
       "\n",
       "                         Regionname_encoded  \\\n",
       "0  (0.0, 0.0, 0.0, 1.0, 0.0, 0.0, 0.0, 0.0)   \n",
       "1  (0.0, 0.0, 0.0, 1.0, 0.0, 0.0, 0.0, 0.0)   \n",
       "2  (1.0, 0.0, 0.0, 0.0, 0.0, 0.0, 0.0, 0.0)   \n",
       "3  (1.0, 0.0, 0.0, 0.0, 0.0, 0.0, 0.0, 0.0)   \n",
       "4  (1.0, 0.0, 0.0, 0.0, 0.0, 0.0, 0.0, 0.0)   \n",
       "\n",
       "                                 features_vectorized     prediction  \n",
       "0  (1.0, 0.0, 0.0, 0.0, 0.0, 0.0, 1.0, 0.0, 0.0, ...  809232.511422  \n",
       "1  (1.0, 0.0, 0.0, 0.0, 0.0, 0.0, 1.0, 0.0, 0.0, ...  554630.329445  \n",
       "2  (1.0, 0.0, 0.0, 1.0, 0.0, 0.0, 0.0, 0.0, 0.0, ...  811517.085919  \n",
       "3  (1.0, 0.0, 0.0, 1.0, 0.0, 0.0, 0.0, 0.0, 0.0, ...  780656.209941  \n",
       "4  (1.0, 0.0, 0.0, 1.0, 0.0, 0.0, 0.0, 0.0, 0.0, ...  742080.118419  "
      ]
     },
     "execution_count": 32,
     "metadata": {},
     "output_type": "execute_result"
    }
   ],
   "source": [
    "predictions = model.transform(testData)\n",
    "predictions_df = predictions.toPandas()\n",
    "predictions_df.head()"
   ]
  },
  {
   "cell_type": "markdown",
   "metadata": {},
   "source": [
    "### Evaluating the predictions\n",
    "* Spark includes evaluators which are classes which can help us evaluate the pipelines / models we created.\n",
    "* There are special evaluators for different tasks. One evaluator exists specifically for regressions and is called RegressionEvaluator\n",
    "* The evaluator can help us measure various metrics such as R^2, Mean Squared Error and so on"
   ]
  },
  {
   "cell_type": "code",
   "execution_count": 33,
   "metadata": {},
   "outputs": [
    {
     "name": "stdout",
     "output_type": "stream",
     "text": [
      "0.5242489299852171\n"
     ]
    }
   ],
   "source": [
    "from pyspark.ml.evaluation import RegressionEvaluator\n",
    "\n",
    "evaluator = RegressionEvaluator(\n",
    "    labelCol = \"Price\",\n",
    "    predictionCol = \"prediction\",\n",
    "    metricName = \"r2\")\n",
    "\n",
    "r2 = evaluator.evaluate(predictions)\n",
    "print(r2)"
   ]
  },
  {
   "cell_type": "markdown",
   "metadata": {},
   "source": [
    "#### Comparing the predictions and the actual price"
   ]
  },
  {
   "cell_type": "code",
   "execution_count": 34,
   "metadata": {},
   "outputs": [
    {
     "data": {
      "text/html": [
       "<div>\n",
       "<style scoped>\n",
       "    .dataframe tbody tr th:only-of-type {\n",
       "        vertical-align: middle;\n",
       "    }\n",
       "\n",
       "    .dataframe tbody tr th {\n",
       "        vertical-align: top;\n",
       "    }\n",
       "\n",
       "    .dataframe thead th {\n",
       "        text-align: right;\n",
       "    }\n",
       "</style>\n",
       "<table border=\"1\" class=\"dataframe\">\n",
       "  <thead>\n",
       "    <tr style=\"text-align: right;\">\n",
       "      <th></th>\n",
       "      <th>Price</th>\n",
       "      <th>prediction</th>\n",
       "    </tr>\n",
       "  </thead>\n",
       "  <tbody>\n",
       "    <tr>\n",
       "      <th>0</th>\n",
       "      <td>112000.0</td>\n",
       "      <td>6.657786e+05</td>\n",
       "    </tr>\n",
       "    <tr>\n",
       "      <th>1</th>\n",
       "      <td>112000.0</td>\n",
       "      <td>6.657786e+05</td>\n",
       "    </tr>\n",
       "    <tr>\n",
       "      <th>2</th>\n",
       "      <td>148000.0</td>\n",
       "      <td>1.286449e+06</td>\n",
       "    </tr>\n",
       "    <tr>\n",
       "      <th>3</th>\n",
       "      <td>170000.0</td>\n",
       "      <td>1.503003e+05</td>\n",
       "    </tr>\n",
       "    <tr>\n",
       "      <th>4</th>\n",
       "      <td>190000.0</td>\n",
       "      <td>1.292667e+06</td>\n",
       "    </tr>\n",
       "  </tbody>\n",
       "</table>\n",
       "</div>"
      ],
      "text/plain": [
       "      Price    prediction\n",
       "0  112000.0  6.657786e+05\n",
       "1  112000.0  6.657786e+05\n",
       "2  148000.0  1.286449e+06\n",
       "3  170000.0  1.503003e+05\n",
       "4  190000.0  1.292667e+06"
      ]
     },
     "execution_count": 34,
     "metadata": {},
     "output_type": "execute_result"
    }
   ],
   "source": [
    "predictions_df = predictions.select(\"Price\",\"prediction\")\n",
    "predictions_df = predictions_df.orderBy(predictions_df.Price.asc())\n",
    "predictions_df = predictions_df.toPandas()\n",
    "predictions_df.head()"
   ]
  },
  {
   "cell_type": "code",
   "execution_count": 35,
   "metadata": {},
   "outputs": [
    {
     "data": {
      "image/png": "[encoded data removed]",
      "text/plain": [
       "<matplotlib.figure.Figure at 0x10fadea90>"
      ]
     },
     "metadata": {},
     "output_type": "display_data"
    }
   ],
   "source": [
    "import matplotlib.pyplot as plt\n",
    "\n",
    "plt.figure(figsize=(14,6))\n",
    "\n",
    "plt.plot(predictions_df.Price, label = \"Real Price\")\n",
    "plt.plot(predictions_df.prediction, label = \"Model Predictions\", alpha = 0.7)\n",
    "\n",
    "plt.ylabel(\"Price\")\n",
    "plt.legend()\n",
    "\n",
    "plt.show()\n"
   ]
  },
  {
   "cell_type": "markdown",
   "metadata": {},
   "source": [
    "### 1.5 Hyperparameter tuning\n",
    "We can use in-built features of Spark to perform hyperparameter tuning on our linear model.\n",
    "\n",
    "The parameters to adjust are:\n",
    "* the elastic net parameter (whether a lasso or ridge model works best)\n",
    "* the regularization parameter\n",
    "* the number of iterations"
   ]
  },
  {
   "cell_type": "code",
   "execution_count": 36,
   "metadata": {
    "collapsed": true
   },
   "outputs": [],
   "source": [
    "from pyspark.ml.tuning import ParamGridBuilder\n",
    "\n",
    "param_grid = ParamGridBuilder().addGrid(\n",
    "    lr.maxIter,[10,20,40,60,80,100]).addGrid(\n",
    "    lr.regParam, [0.0, 0.2, 0.4, 0.6, 0.8, 1.0]).addGrid(\n",
    "    lr.elasticNetParam, [0.0, 1.0]).build()"
   ]
  },
  {
   "cell_type": "markdown",
   "metadata": {},
   "source": [
    "#### Define the RegressionEvaluator which we want to use to evaluate the model\n",
    "Here we select the evaluation metric which we want to optimize"
   ]
  },
  {
   "cell_type": "code",
   "execution_count": 37,
   "metadata": {
    "collapsed": true
   },
   "outputs": [],
   "source": [
    "evaluator = RegressionEvaluator(\n",
    "    labelCol = \"Price\",\n",
    "    predictionCol = \"prediction\",\n",
    "    metricName = \"rmse\")"
   ]
  },
  {
   "cell_type": "markdown",
   "metadata": {},
   "source": [
    "#### Define the CrossValidator\n",
    "This is the most important part of this section. As we fit all parts together here\n",
    "* <b>Estimator</b>: this can be a estimator only or a pipeline, we choose the pipeline we created earlier\n",
    "* <b>EstimatorParamMaps</b>: this is the maps of the possible parameter of the estimator, the combination of all of them is tested\n",
    "* <b>Evaluator</b>: we reference the evaluator which we want to use to evaluate our model"
   ]
  },
  {
   "cell_type": "code",
   "execution_count": 38,
   "metadata": {
    "collapsed": true
   },
   "outputs": [],
   "source": [
    "from pyspark.ml.tuning import CrossValidator\n",
    "crossval = CrossValidator(estimator = pipeline, \n",
    "                         estimatorParamMaps = param_grid,  \n",
    "                         evaluator = evaluator,\n",
    "                         numFolds = 4)"
   ]
  },
  {
   "cell_type": "markdown",
   "metadata": {},
   "source": [
    "#### Train all of our models with the training data"
   ]
  },
  {
   "cell_type": "code",
   "execution_count": 39,
   "metadata": {
    "collapsed": true,
    "scrolled": false
   },
   "outputs": [],
   "source": [
    "model = crossval.fit(trainingData)"
   ]
  },
  {
   "cell_type": "markdown",
   "metadata": {},
   "source": [
    "#### We extract our best model"
   ]
  },
  {
   "cell_type": "code",
   "execution_count": 40,
   "metadata": {},
   "outputs": [
    {
     "data": {
      "text/plain": [
       "LinearRegression_44cf8e540ff96d12139a"
      ]
     },
     "execution_count": 40,
     "metadata": {},
     "output_type": "execute_result"
    }
   ],
   "source": [
    "lr_model = model.bestModel.stages[-1]\n",
    "lr_model"
   ]
  },
  {
   "cell_type": "markdown",
   "metadata": {},
   "source": [
    "#### Extracting the values of our best model\n",
    "This looks a bit peculiar, as the values are in the _java_object whcih we need to access\n"
   ]
  },
  {
   "cell_type": "code",
   "execution_count": 41,
   "metadata": {},
   "outputs": [
    {
     "name": "stdout",
     "output_type": "stream",
     "text": [
      "maxIter= 10\n",
      "elasticNetParam= 1.0\n",
      "regParam= 0.4\n"
     ]
    }
   ],
   "source": [
    "print(\"maxIter=\", lr_model._java_obj.getMaxIter())\n",
    "print(\"elasticNetParam=\", lr_model._java_obj.getElasticNetParam())\n",
    "print(\"regParam=\", lr_model._java_obj.getRegParam())"
   ]
  },
  {
   "cell_type": "code",
   "execution_count": 42,
   "metadata": {},
   "outputs": [
    {
     "name": "stdout",
     "output_type": "stream",
     "text": [
      "maxIter= 10\n",
      "elasticNetParam= 1.0\n",
      "regParam= 0.4\n"
     ]
    }
   ],
   "source": [
    "print(\"maxIter=\", lr_model._java_obj.getMaxIter())\n",
    "print(\"elasticNetParam=\", lr_model._java_obj.getElasticNetParam())\n",
    "print(\"regParam=\", lr_model._java_obj.getRegParam())"
   ]
  },
  {
   "cell_type": "markdown",
   "metadata": {},
   "source": [
    "#### Making predictions with out best model"
   ]
  },
  {
   "cell_type": "code",
   "execution_count": 43,
   "metadata": {},
   "outputs": [
    {
     "data": {
      "text/html": [
       "<div>\n",
       "<style scoped>\n",
       "    .dataframe tbody tr th:only-of-type {\n",
       "        vertical-align: middle;\n",
       "    }\n",
       "\n",
       "    .dataframe tbody tr th {\n",
       "        vertical-align: top;\n",
       "    }\n",
       "\n",
       "    .dataframe thead th {\n",
       "        text-align: right;\n",
       "    }\n",
       "</style>\n",
       "<table border=\"1\" class=\"dataframe\">\n",
       "  <thead>\n",
       "    <tr style=\"text-align: right;\">\n",
       "      <th></th>\n",
       "      <th>Type</th>\n",
       "      <th>Rooms</th>\n",
       "      <th>Regionname</th>\n",
       "      <th>Distance</th>\n",
       "      <th>Price</th>\n",
       "      <th>Type_index</th>\n",
       "      <th>Regionname_index</th>\n",
       "      <th>Type_encoded</th>\n",
       "      <th>Regionname_encoded</th>\n",
       "      <th>features_vectorized</th>\n",
       "      <th>prediction</th>\n",
       "    </tr>\n",
       "  </thead>\n",
       "  <tbody>\n",
       "    <tr>\n",
       "      <th>0</th>\n",
       "      <td>u</td>\n",
       "      <td>1.0</td>\n",
       "      <td>Southern Metropolitan</td>\n",
       "      <td>8.400000</td>\n",
       "      <td>112000.0</td>\n",
       "      <td>1.0</td>\n",
       "      <td>1.0</td>\n",
       "      <td>(0.0, 1.0, 0.0)</td>\n",
       "      <td>(0.0, 1.0, 0.0, 0.0, 0.0, 0.0, 0.0, 0.0)</td>\n",
       "      <td>(0.0, 1.0, 0.0, 0.0, 1.0, 0.0, 0.0, 0.0, 0.0, ...</td>\n",
       "      <td>6.653280e+05</td>\n",
       "    </tr>\n",
       "    <tr>\n",
       "      <th>1</th>\n",
       "      <td>u</td>\n",
       "      <td>1.0</td>\n",
       "      <td>Southern Metropolitan</td>\n",
       "      <td>8.400000</td>\n",
       "      <td>112000.0</td>\n",
       "      <td>1.0</td>\n",
       "      <td>1.0</td>\n",
       "      <td>(0.0, 1.0, 0.0)</td>\n",
       "      <td>(0.0, 1.0, 0.0, 0.0, 0.0, 0.0, 0.0, 0.0)</td>\n",
       "      <td>(0.0, 1.0, 0.0, 0.0, 1.0, 0.0, 0.0, 0.0, 0.0, ...</td>\n",
       "      <td>6.653280e+05</td>\n",
       "    </tr>\n",
       "    <tr>\n",
       "      <th>2</th>\n",
       "      <td>t</td>\n",
       "      <td>3.0</td>\n",
       "      <td>Southern Metropolitan</td>\n",
       "      <td>10.500000</td>\n",
       "      <td>148000.0</td>\n",
       "      <td>2.0</td>\n",
       "      <td>1.0</td>\n",
       "      <td>(0.0, 0.0, 1.0)</td>\n",
       "      <td>(0.0, 1.0, 0.0, 0.0, 0.0, 0.0, 0.0, 0.0)</td>\n",
       "      <td>(0.0, 0.0, 1.0, 0.0, 1.0, 0.0, 0.0, 0.0, 0.0, ...</td>\n",
       "      <td>1.286302e+06</td>\n",
       "    </tr>\n",
       "    <tr>\n",
       "      <th>3</th>\n",
       "      <td>u</td>\n",
       "      <td>1.0</td>\n",
       "      <td>Western Metropolitan</td>\n",
       "      <td>5.100000</td>\n",
       "      <td>170000.0</td>\n",
       "      <td>1.0</td>\n",
       "      <td>2.0</td>\n",
       "      <td>(0.0, 1.0, 0.0)</td>\n",
       "      <td>(0.0, 0.0, 1.0, 0.0, 0.0, 0.0, 0.0, 0.0)</td>\n",
       "      <td>(0.0, 1.0, 0.0, 0.0, 0.0, 1.0, 0.0, 0.0, 0.0, ...</td>\n",
       "      <td>1.493881e+05</td>\n",
       "    </tr>\n",
       "    <tr>\n",
       "      <th>4</th>\n",
       "      <td>h</td>\n",
       "      <td>6.0</td>\n",
       "      <td>Northern Victoria</td>\n",
       "      <td>31.700001</td>\n",
       "      <td>190000.0</td>\n",
       "      <td>0.0</td>\n",
       "      <td>5.0</td>\n",
       "      <td>(1.0, 0.0, 0.0)</td>\n",
       "      <td>(0.0, 0.0, 0.0, 0.0, 0.0, 1.0, 0.0, 0.0)</td>\n",
       "      <td>(1.0, 0.0, 0.0, 0.0, 0.0, 0.0, 0.0, 0.0, 1.0, ...</td>\n",
       "      <td>1.296051e+06</td>\n",
       "    </tr>\n",
       "  </tbody>\n",
       "</table>\n",
       "</div>"
      ],
      "text/plain": [
       "  Type  Rooms             Regionname   Distance     Price  Type_index  \\\n",
       "0    u    1.0  Southern Metropolitan   8.400000  112000.0         1.0   \n",
       "1    u    1.0  Southern Metropolitan   8.400000  112000.0         1.0   \n",
       "2    t    3.0  Southern Metropolitan  10.500000  148000.0         2.0   \n",
       "3    u    1.0   Western Metropolitan   5.100000  170000.0         1.0   \n",
       "4    h    6.0      Northern Victoria  31.700001  190000.0         0.0   \n",
       "\n",
       "   Regionname_index     Type_encoded  \\\n",
       "0               1.0  (0.0, 1.0, 0.0)   \n",
       "1               1.0  (0.0, 1.0, 0.0)   \n",
       "2               1.0  (0.0, 0.0, 1.0)   \n",
       "3               2.0  (0.0, 1.0, 0.0)   \n",
       "4               5.0  (1.0, 0.0, 0.0)   \n",
       "\n",
       "                         Regionname_encoded  \\\n",
       "0  (0.0, 1.0, 0.0, 0.0, 0.0, 0.0, 0.0, 0.0)   \n",
       "1  (0.0, 1.0, 0.0, 0.0, 0.0, 0.0, 0.0, 0.0)   \n",
       "2  (0.0, 1.0, 0.0, 0.0, 0.0, 0.0, 0.0, 0.0)   \n",
       "3  (0.0, 0.0, 1.0, 0.0, 0.0, 0.0, 0.0, 0.0)   \n",
       "4  (0.0, 0.0, 0.0, 0.0, 0.0, 1.0, 0.0, 0.0)   \n",
       "\n",
       "                                 features_vectorized    prediction  \n",
       "0  (0.0, 1.0, 0.0, 0.0, 1.0, 0.0, 0.0, 0.0, 0.0, ...  6.653280e+05  \n",
       "1  (0.0, 1.0, 0.0, 0.0, 1.0, 0.0, 0.0, 0.0, 0.0, ...  6.653280e+05  \n",
       "2  (0.0, 0.0, 1.0, 0.0, 1.0, 0.0, 0.0, 0.0, 0.0, ...  1.286302e+06  \n",
       "3  (0.0, 1.0, 0.0, 0.0, 0.0, 1.0, 0.0, 0.0, 0.0, ...  1.493881e+05  \n",
       "4  (1.0, 0.0, 0.0, 0.0, 0.0, 0.0, 0.0, 0.0, 1.0, ...  1.296051e+06  "
      ]
     },
     "execution_count": 43,
     "metadata": {},
     "output_type": "execute_result"
    }
   ],
   "source": [
    "predictions = model.transform(testData).orderBy(predictions.Price.asc())\n",
    "predictions_df = predictions.toPandas()\n",
    "predictions_df.head()"
   ]
  },
  {
   "cell_type": "markdown",
   "metadata": {},
   "source": [
    "#### Evaluate the model based on its R-Square"
   ]
  },
  {
   "cell_type": "code",
   "execution_count": 44,
   "metadata": {
    "scrolled": true
   },
   "outputs": [
    {
     "name": "stdout",
     "output_type": "stream",
     "text": [
      "R^2 score on test data = 0.524254\n"
     ]
    }
   ],
   "source": [
    "evaluator = RegressionEvaluator(\n",
    "    labelCol='Price', \n",
    "    predictionCol='prediction', \n",
    "    metricName='r2')\n",
    "\n",
    "rsquare = evaluator.evaluate(predictions)\n",
    "print(\"R^2 score on test data = %g\" % rsquare)"
   ]
  },
  {
   "cell_type": "markdown",
   "metadata": {},
   "source": [
    "#### Visualise performance"
   ]
  },
  {
   "cell_type": "code",
   "execution_count": 45,
   "metadata": {},
   "outputs": [
    {
     "data": {
      "image/png": "[encoded data removed]",
      "text/plain": [
       "<matplotlib.figure.Figure at 0x113299ef0>"
      ]
     },
     "metadata": {},
     "output_type": "display_data"
    }
   ],
   "source": [
    "plt.figure(figsize =(14,6))\n",
    "\n",
    "plt.plot(predictions_df[\"Price\"], label = \"Actual Prices\")\n",
    "plt.plot(predictions_df[\"prediction\"], label = \"Predictions\", alpha = 0.7)\n",
    "\n",
    "plt.ylabel(\"Price\")\n",
    "plt.legend()\n",
    "plt.show()"
   ]
  }
 ],
 "metadata": {
  "kernelspec": {
   "display_name": "Python 3",
   "language": "python",
   "name": "python3"
  }
 },
 "nbformat": 4,
 "nbformat_minor": 2
}
